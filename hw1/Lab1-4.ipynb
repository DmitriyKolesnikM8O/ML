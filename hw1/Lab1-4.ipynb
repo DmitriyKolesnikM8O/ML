{
  "cells": [
    {
      "cell_type": "markdown",
      "id": "ec6e7d18-6a6e-4a51-a7cd-0a1152604973",
      "metadata": {
        "id": "ec6e7d18-6a6e-4a51-a7cd-0a1152604973"
      },
      "source": [
        "## Лабораторная работа №1 | Вариант 4"
      ]
    },
    {
      "cell_type": "markdown",
      "id": "277877ce-f982-4711-a6a6-2a4a90871409",
      "metadata": {
        "id": "277877ce-f982-4711-a6a6-2a4a90871409"
      },
      "source": [
        "Выполнил: Колесник Дмитрий Сергеевич (М8О-313Б-23)"
      ]
    },
    {
      "cell_type": "markdown",
      "id": "031f025d-84dc-470f-b839-456a76d9636b",
      "metadata": {
        "id": "031f025d-84dc-470f-b839-456a76d9636b"
      },
      "source": [
        "### 1. Numpy"
      ]
    },
    {
      "cell_type": "code",
      "execution_count": 49,
      "id": "8a2c6f8d-e85b-4982-ba6d-77ffdb7d53e8",
      "metadata": {
        "id": "8a2c6f8d-e85b-4982-ba6d-77ffdb7d53e8"
      },
      "outputs": [],
      "source": [
        "import os\n",
        "if not os.path.exists('ML'):\n",
        "    !git clone https://github.com/DmitriyKolesnikM8O/ML.git\n",
        "\n",
        "!pip install -q pandas numpy scikit-learn matplotlib seaborn\n",
        "\n",
        "import numpy as np\n",
        "\n",
        "import matplotlib.pyplot as plt\n",
        "import seaborn as sns\n",
        "import plotly.express as px\n",
        "\n",
        "sns.set_style('whitegrid')\n",
        "plt.rcParams['figure.figsize'] = (10, 6)\n"
      ]
    },
    {
      "cell_type": "markdown",
      "id": "6ff3559d-5f3e-4540-9a31-bfb9f42a23da",
      "metadata": {
        "id": "6ff3559d-5f3e-4540-9a31-bfb9f42a23da"
      },
      "source": [
        "1. Найти индексы не нулевых элементов массива [1,2,0,0,4,0]"
      ]
    },
    {
      "cell_type": "code",
      "execution_count": 45,
      "id": "752bc586-1e3f-4085-85c3-4068b781314f",
      "metadata": {
        "colab": {
          "base_uri": "https://localhost:8080/"
        },
        "id": "752bc586-1e3f-4085-85c3-4068b781314f",
        "outputId": "e28715db-be94-4a49-dc97-2cdaa7f8df13"
      },
      "outputs": [
        {
          "output_type": "stream",
          "name": "stdout",
          "text": [
            "(array([0, 1, 4]),)\n"
          ]
        }
      ],
      "source": [
        "arr = [1, 2, 0, 0, 4, 0]\n",
        "non_zero_indices = np.nonzero(arr)\n",
        "print(non_zero_indices)"
      ]
    },
    {
      "cell_type": "markdown",
      "id": "0243a0f6-1905-4e2d-9572-9ba49dc003a8",
      "metadata": {
        "id": "0243a0f6-1905-4e2d-9572-9ba49dc003a8"
      },
      "source": [
        "2. Создайте единичную матрицу размером 3х3"
      ]
    },
    {
      "cell_type": "code",
      "execution_count": 8,
      "id": "ec6ae581-5adf-459c-bdc7-8b015d9529f6",
      "metadata": {
        "colab": {
          "base_uri": "https://localhost:8080/"
        },
        "id": "ec6ae581-5adf-459c-bdc7-8b015d9529f6",
        "outputId": "cad48edf-3897-4a4f-8502-c0425c5b7a08"
      },
      "outputs": [
        {
          "output_type": "execute_result",
          "data": {
            "text/plain": [
              "array([[1., 0., 0.],\n",
              "       [0., 1., 0.],\n",
              "       [0., 0., 1.]])"
            ]
          },
          "metadata": {},
          "execution_count": 8
        }
      ],
      "source": [
        "np.identity(3)"
      ]
    },
    {
      "cell_type": "markdown",
      "id": "8c7d3811-a555-4c02-ada8-e4a70b9dee46",
      "metadata": {
        "id": "8c7d3811-a555-4c02-ada8-e4a70b9dee46"
      },
      "source": [
        "3. Создайте матрицу-шахматную доску 8х8 используя функцию `tile`"
      ]
    },
    {
      "cell_type": "code",
      "execution_count": 9,
      "id": "12d0ed34-908c-4840-8b81-457e64dd7b0b",
      "metadata": {
        "colab": {
          "base_uri": "https://localhost:8080/"
        },
        "id": "12d0ed34-908c-4840-8b81-457e64dd7b0b",
        "outputId": "60265f8e-9ae1-4c7b-ecbf-4281323b5958"
      },
      "outputs": [
        {
          "output_type": "stream",
          "name": "stdout",
          "text": [
            "[[1 0 1 0 1 0 1 0]\n",
            " [0 1 0 1 0 1 0 1]\n",
            " [1 0 1 0 1 0 1 0]\n",
            " [0 1 0 1 0 1 0 1]\n",
            " [1 0 1 0 1 0 1 0]\n",
            " [0 1 0 1 0 1 0 1]\n",
            " [1 0 1 0 1 0 1 0]\n",
            " [0 1 0 1 0 1 0 1]]\n"
          ]
        }
      ],
      "source": [
        "minimal_square = [[1, 0], [0, 1]]\n",
        "chess_matrix = np.tile(minimal_square, (4, 4))\n",
        "print(chess_matrix)"
      ]
    },
    {
      "cell_type": "markdown",
      "id": "b7ca56e6-a194-4c42-b8a2-307fcf40f648",
      "metadata": {
        "id": "b7ca56e6-a194-4c42-b8a2-307fcf40f648"
      },
      "source": [
        "4. Дан 1D массив, удалите все элементы которые входят в диапазон `[3, 8]` inplace"
      ]
    },
    {
      "cell_type": "code",
      "execution_count": 14,
      "id": "1b1d64cd-0e28-400f-8d49-a1274947e150",
      "metadata": {
        "colab": {
          "base_uri": "https://localhost:8080/"
        },
        "id": "1b1d64cd-0e28-400f-8d49-a1274947e150",
        "outputId": "3071c6db-9581-4caa-af89-054c47cfc648"
      },
      "outputs": [
        {
          "output_type": "stream",
          "name": "stdout",
          "text": [
            "[0, 2, 1, 10, 15]\n"
          ]
        }
      ],
      "source": [
        "arr = [0, 4, 4, 2, 1, 4, 8, 7, 10, 15]\n",
        "arr[:] = [x for x in arr if not (3 <= x <= 8)]\n",
        "print(arr)"
      ]
    },
    {
      "cell_type": "markdown",
      "id": "b3b2cd1e-e996-45e0-b9ed-e12ce653a9c3",
      "metadata": {
        "id": "b3b2cd1e-e996-45e0-b9ed-e12ce653a9c3"
      },
      "source": [
        "5. Создайте случайный вектор размером 10 элементов и замените максимальный элемент на 0"
      ]
    },
    {
      "cell_type": "code",
      "execution_count": 15,
      "id": "c40ef785-d750-42ba-ac6e-b777866202a6",
      "metadata": {
        "colab": {
          "base_uri": "https://localhost:8080/"
        },
        "id": "c40ef785-d750-42ba-ac6e-b777866202a6",
        "outputId": "f06664ee-94c7-4ea6-ec52-6767612d7223"
      },
      "outputs": [
        {
          "output_type": "stream",
          "name": "stdout",
          "text": [
            "[0.96372444 0.44944212 0.48594394 0.078116   0.53294444 0.72706945\n",
            " 0.19299839 0.15886437 0.29333858 0.37845182]\n",
            "[0.         0.44944212 0.48594394 0.078116   0.53294444 0.72706945\n",
            " 0.19299839 0.15886437 0.29333858 0.37845182]\n"
          ]
        }
      ],
      "source": [
        "random_vec = np.random.rand(10)\n",
        "print(random_vec)\n",
        "random_vec[np.argmax(random_vec)] = 0\n",
        "print(random_vec)"
      ]
    },
    {
      "cell_type": "markdown",
      "id": "8108b3a8-5ba8-472d-ad6b-095ade8678ef",
      "metadata": {
        "id": "8108b3a8-5ba8-472d-ad6b-095ade8678ef"
      },
      "source": [
        "6. Как распечатать все значения в массиве?"
      ]
    },
    {
      "cell_type": "code",
      "execution_count": 16,
      "id": "89b58c0a-bd5d-435a-be45-719fdfce662a",
      "metadata": {
        "colab": {
          "base_uri": "https://localhost:8080/"
        },
        "id": "89b58c0a-bd5d-435a-be45-719fdfce662a",
        "outputId": "53fa36d8-c661-423d-c257-dc0a4a159fbf"
      },
      "outputs": [
        {
          "output_type": "stream",
          "name": "stdout",
          "text": [
            "[np.int64(0), np.int64(1), np.int64(2), np.int64(3), np.int64(4), np.int64(5), np.int64(6), np.int64(7), np.int64(8), np.int64(9), np.int64(10), np.int64(11), np.int64(12), np.int64(13), np.int64(14), np.int64(15), np.int64(16), np.int64(17), np.int64(18), np.int64(19), np.int64(20), np.int64(21), np.int64(22), np.int64(23), np.int64(24), np.int64(25), np.int64(26), np.int64(27), np.int64(28), np.int64(29), np.int64(30), np.int64(31), np.int64(32), np.int64(33), np.int64(34), np.int64(35), np.int64(36), np.int64(37), np.int64(38), np.int64(39), np.int64(40), np.int64(41), np.int64(42), np.int64(43), np.int64(44), np.int64(45), np.int64(46), np.int64(47), np.int64(48), np.int64(49), np.int64(50), np.int64(51), np.int64(52), np.int64(53), np.int64(54), np.int64(55), np.int64(56), np.int64(57), np.int64(58), np.int64(59), np.int64(60), np.int64(61), np.int64(62), np.int64(63), np.int64(64), np.int64(65), np.int64(66), np.int64(67), np.int64(68), np.int64(69), np.int64(70), np.int64(71), np.int64(72), np.int64(73), np.int64(74), np.int64(75), np.int64(76), np.int64(77), np.int64(78), np.int64(79), np.int64(80), np.int64(81), np.int64(82), np.int64(83), np.int64(84), np.int64(85), np.int64(86), np.int64(87), np.int64(88), np.int64(89), np.int64(90), np.int64(91), np.int64(92), np.int64(93), np.int64(94), np.int64(95), np.int64(96), np.int64(97), np.int64(98), np.int64(99), np.int64(100), np.int64(101), np.int64(102), np.int64(103), np.int64(104), np.int64(105), np.int64(106), np.int64(107), np.int64(108), np.int64(109), np.int64(110), np.int64(111), np.int64(112), np.int64(113), np.int64(114), np.int64(115), np.int64(116), np.int64(117), np.int64(118), np.int64(119), np.int64(120), np.int64(121), np.int64(122), np.int64(123), np.int64(124), np.int64(125), np.int64(126), np.int64(127), np.int64(128), np.int64(129), np.int64(130), np.int64(131), np.int64(132), np.int64(133), np.int64(134), np.int64(135), np.int64(136), np.int64(137), np.int64(138), np.int64(139), np.int64(140), np.int64(141), np.int64(142), np.int64(143), np.int64(144), np.int64(145), np.int64(146), np.int64(147), np.int64(148), np.int64(149)]\n"
          ]
        }
      ],
      "source": [
        "arr = np.arange(150)\n",
        "# Можно обернуть в лист(list(arr))\n",
        "# Можно в цикле пройтись просто (for element in arr: print(element))\n",
        "# Можно настройки numpy изменить: np.set_printoptions(threshold=sys.maxsize)"
      ]
    },
    {
      "cell_type": "markdown",
      "id": "98511652-db85-4506-a5b8-f94b05d35ce9",
      "metadata": {
        "id": "98511652-db85-4506-a5b8-f94b05d35ce9"
      },
      "source": [
        "7. Рассмотрим случайный вектор с формой 100х2, представляющей координаты, и найдем расстояния от точки к точке"
      ]
    },
    {
      "cell_type": "code",
      "execution_count": 28,
      "id": "ca72cdb0-ed24-460d-81a9-220b850d62c3",
      "metadata": {
        "colab": {
          "base_uri": "https://localhost:8080/"
        },
        "id": "ca72cdb0-ed24-460d-81a9-220b850d62c3",
        "outputId": "dd46e0c5-0115-482f-a040-14eac5174e7a"
      },
      "outputs": [
        {
          "output_type": "stream",
          "name": "stdout",
          "text": [
            "[[   0.          657.46863043   72.11102551  303.59512513  461.9134118\n",
            "   893.12261196  123.30855607  186.0376306   386.81907916  896.57124647]\n",
            " [ 657.46863043    0.          728.70913264  388.63479     282.79497874\n",
            "   631.46575521  766.32238647  489.00408996  658.76399416  252.23996511]\n",
            " [  72.11102551  728.70913264    0.          367.76351097  532.66499791\n",
            "   952.70772013   82.15229759  250.71497761  423.72278674  966.28774182]\n",
            " [ 303.59512513  388.63479     367.76351097    0.          312.02884482\n",
            "   816.30999014  425.63951884  117.59251677  507.34702128  607.85031052]\n",
            " [ 461.9134118   282.79497874  532.66499791  312.02884482    0.\n",
            "   504.84056889  546.80618138  349.01289374  376.37879855  530.64865966]\n",
            " [ 893.12261196  631.46575521  952.70772013  816.30999014  504.84056889\n",
            "     0.          931.88250332  836.06339473  581.41637404  769.72982273]\n",
            " [ 123.30855607  766.32238647   82.15229759  425.63951884  546.80618138\n",
            "   931.88250332    0.          308.42341027  377.4864236  1010.11138   ]\n",
            " [ 186.0376306   489.00408996  250.71497761  117.59251677  349.01289374\n",
            "   836.06339473  308.42341027    0.          442.19113514  718.92280531]\n",
            " [ 386.81907916  658.76399416  423.72278674  507.34702128  376.37879855\n",
            "   581.41637404  377.4864236   442.19113514    0.          906.75520401]\n",
            " [ 896.57124647  252.23996511  966.28774182  607.85031052  530.64865966\n",
            "   769.72982273 1010.11138     718.92280531  906.75520401    0.        ]]\n"
          ]
        }
      ],
      "source": [
        "coords = np.random.randint(0, 1000, size=(100, 2))\n",
        "differences = coords[:, np.newaxis, :] - coords[np.newaxis, :, :]\n",
        "squared_diffs = differences**2\n",
        "sum_of_squares = squared_diffs.sum(axis=-1)\n",
        "distance_matrix_numpy = np.sqrt(sum_of_squares)\n",
        "print(distance_matrix_numpy[:10, :10])"
      ]
    },
    {
      "cell_type": "markdown",
      "id": "1412a70a-2a1e-406e-a227-afc9a47ed659",
      "metadata": {
        "id": "1412a70a-2a1e-406e-a227-afc9a47ed659"
      },
      "source": [
        "8. Как конвертировать массив float(32 bit) к массиву целых чисел (integer 32 bit) in place?"
      ]
    },
    {
      "cell_type": "code",
      "execution_count": 41,
      "id": "22bb8bbf-52dd-4d3c-86c0-c4e9637b909b",
      "metadata": {
        "colab": {
          "base_uri": "https://localhost:8080/"
        },
        "id": "22bb8bbf-52dd-4d3c-86c0-c4e9637b909b",
        "outputId": "0cd9d30c-0091-45c4-ea45-870f29132b27"
      },
      "outputs": [
        {
          "output_type": "stream",
          "name": "stdout",
          "text": [
            "Исходный массив: [ 1.2  2.8  5.  -3.7  9.9]\n",
            "ДО: 134039012310080\n",
            "\n",
            "Результат (просмотренный как int32): [ 1  2  5 -3  9]\n",
            "ID ПОСЛЕ:   134039012310080\n"
          ]
        }
      ],
      "source": [
        "float_arr = np.array([1.2, 2.8, 5.0, -3.7, 9.9], dtype=np.float32)\n",
        "print(f\"Исходный массив: {float_arr}\")\n",
        "print(f\"ДО: {id(float_arr.data)}\")\n",
        "float_arr.view(np.int32)[:] = float_arr\n",
        "print(f\"\\nРезультат (просмотренный как int32): {float_arr.view(np.int32)}\")\n",
        "print(f\"ID ПОСЛЕ:   {id(float_arr.view(np.int32).data)}\")\n"
      ]
    },
    {
      "cell_type": "markdown",
      "id": "f7dc66bf-f7c8-4d78-834b-451651f6839a",
      "metadata": {
        "id": "f7dc66bf-f7c8-4d78-834b-451651f6839a"
      },
      "source": [
        "9. Как прочитать заданный файл?\n",
        "```\n",
        "1, 2, 3, 4, 5\n",
        "6,  ,  , 7, 8\n",
        " ,  , 9,10,11\n",
        "```"
      ]
    },
    {
      "cell_type": "code",
      "execution_count": 44,
      "id": "0ecf5586-d30e-4256-ab93-7ff9bab0b34b",
      "metadata": {
        "colab": {
          "base_uri": "https://localhost:8080/"
        },
        "id": "0ecf5586-d30e-4256-ab93-7ff9bab0b34b",
        "outputId": "d6b970c9-0b4a-4331-8506-d05fc39c4d12"
      },
      "outputs": [
        {
          "output_type": "stream",
          "name": "stdout",
          "text": [
            "[[ 1.  2.  3.  4.  5.]\n",
            " [ 6. nan nan  7.  8.]\n",
            " [nan nan  9. 10. 11.]]\n"
          ]
        }
      ],
      "source": [
        "import io\n",
        "\n",
        "file = \"\"\"1, 2, 3, 4, 5\n",
        "6, , , 7, 8\n",
        ", , 9,10,11\n",
        "\"\"\"\n",
        "\n",
        "data = np.genfromtxt(io.StringIO(file), delimiter=',')\n",
        "print(data)"
      ]
    },
    {
      "cell_type": "markdown",
      "id": "a66194f1-0099-4808-8ebf-5cf10eee5071",
      "metadata": {
        "id": "a66194f1-0099-4808-8ebf-5cf10eee5071"
      },
      "source": [
        "10. Какой эквивалент enumerate для numpy массивов?"
      ]
    },
    {
      "cell_type": "code",
      "execution_count": null,
      "id": "07ed452c-3f7c-40a7-a5b5-716602a5eed9",
      "metadata": {
        "id": "07ed452c-3f7c-40a7-a5b5-716602a5eed9"
      },
      "outputs": [],
      "source": [
        "# numpy.ndenumerate"
      ]
    },
    {
      "cell_type": "markdown",
      "id": "5bd0f757-bb01-4afb-b4f0-6821b5c5b2b7",
      "metadata": {
        "id": "5bd0f757-bb01-4afb-b4f0-6821b5c5b2b7"
      },
      "source": [
        "### 2. Pandas"
      ]
    },
    {
      "cell_type": "markdown",
      "id": "bdffd013-e573-4318-8062-65ae1c5e07e8",
      "metadata": {
        "id": "bdffd013-e573-4318-8062-65ae1c5e07e8"
      },
      "source": [
        "Найдите ответы на вопросы или выполните действия с предложенным датасетом\n",
        "\n",
        "Файл: `russian-housing-market.csv`\n",
        "\n",
        "```\n",
        "price_doc - Цена продажи\n",
        "id - Id транзакции\n",
        "timestamp - Дата транзакции\n",
        "full_sq - суммарная площадь в квадратных метрах, включая лоджию, валконы и отдельные нежилые помещения\n",
        "life_sq - жилая площаль в квадратных метрах, исключая лоджии, балконы и прочие нежилые помещения\n",
        "floor - для апартаментов, этаж помещения\n",
        "max_floor - количество этажей в здании\n",
        "material - материал стен\n",
        "build_year - год постройки\n",
        "num_room - количество жилых комнат\n",
        "kitch_sq - площадь кухни\n",
        "state - состояние апартаментов\n",
        "product_type - покупка или инвестиция собственника-арендатора\n",
        "sub_area - название района\n",
        "```"
      ]
    },
    {
      "cell_type": "code",
      "execution_count": 9,
      "id": "0778ec2b-a7b2-4738-b771-bb1781986f62",
      "metadata": {
        "id": "0778ec2b-a7b2-4738-b771-bb1781986f62"
      },
      "outputs": [],
      "source": [
        "import pandas as pd"
      ]
    },
    {
      "cell_type": "code",
      "execution_count": 17,
      "id": "bfc45614-d44b-49bd-a55c-c410a95a808f",
      "metadata": {
        "colab": {
          "base_uri": "https://localhost:8080/",
          "height": 523
        },
        "id": "bfc45614-d44b-49bd-a55c-c410a95a808f",
        "outputId": "6e2795e7-2280-4dc1-d144-e7db1157d174"
      },
      "outputs": [
        {
          "output_type": "execute_result",
          "data": {
            "text/plain": [
              "id              30471\n",
              "timestamp       30471\n",
              "full_sq         30471\n",
              "life_sq         24088\n",
              "floor           30304\n",
              "max_floor       20899\n",
              "material        20899\n",
              "build_year      16866\n",
              "num_room        20899\n",
              "kitch_sq        20899\n",
              "state           16912\n",
              "product_type    30471\n",
              "sub_area        30471\n",
              "price_doc       30471\n",
              "dtype: int64"
            ],
            "text/html": [
              "<div>\n",
              "<style scoped>\n",
              "    .dataframe tbody tr th:only-of-type {\n",
              "        vertical-align: middle;\n",
              "    }\n",
              "\n",
              "    .dataframe tbody tr th {\n",
              "        vertical-align: top;\n",
              "    }\n",
              "\n",
              "    .dataframe thead th {\n",
              "        text-align: right;\n",
              "    }\n",
              "</style>\n",
              "<table border=\"1\" class=\"dataframe\">\n",
              "  <thead>\n",
              "    <tr style=\"text-align: right;\">\n",
              "      <th></th>\n",
              "      <th>0</th>\n",
              "    </tr>\n",
              "  </thead>\n",
              "  <tbody>\n",
              "    <tr>\n",
              "      <th>id</th>\n",
              "      <td>30471</td>\n",
              "    </tr>\n",
              "    <tr>\n",
              "      <th>timestamp</th>\n",
              "      <td>30471</td>\n",
              "    </tr>\n",
              "    <tr>\n",
              "      <th>full_sq</th>\n",
              "      <td>30471</td>\n",
              "    </tr>\n",
              "    <tr>\n",
              "      <th>life_sq</th>\n",
              "      <td>24088</td>\n",
              "    </tr>\n",
              "    <tr>\n",
              "      <th>floor</th>\n",
              "      <td>30304</td>\n",
              "    </tr>\n",
              "    <tr>\n",
              "      <th>max_floor</th>\n",
              "      <td>20899</td>\n",
              "    </tr>\n",
              "    <tr>\n",
              "      <th>material</th>\n",
              "      <td>20899</td>\n",
              "    </tr>\n",
              "    <tr>\n",
              "      <th>build_year</th>\n",
              "      <td>16866</td>\n",
              "    </tr>\n",
              "    <tr>\n",
              "      <th>num_room</th>\n",
              "      <td>20899</td>\n",
              "    </tr>\n",
              "    <tr>\n",
              "      <th>kitch_sq</th>\n",
              "      <td>20899</td>\n",
              "    </tr>\n",
              "    <tr>\n",
              "      <th>state</th>\n",
              "      <td>16912</td>\n",
              "    </tr>\n",
              "    <tr>\n",
              "      <th>product_type</th>\n",
              "      <td>30471</td>\n",
              "    </tr>\n",
              "    <tr>\n",
              "      <th>sub_area</th>\n",
              "      <td>30471</td>\n",
              "    </tr>\n",
              "    <tr>\n",
              "      <th>price_doc</th>\n",
              "      <td>30471</td>\n",
              "    </tr>\n",
              "  </tbody>\n",
              "</table>\n",
              "</div><br><label><b>dtype:</b> int64</label>"
            ]
          },
          "metadata": {},
          "execution_count": 17
        }
      ],
      "source": [
        "df = pd.read_csv('ML/hw1/russian-housing-market.csv')"
      ]
    },
    {
      "cell_type": "markdown",
      "id": "1026e8c6-513a-41e3-b2f4-68aae18b8435",
      "metadata": {
        "id": "1026e8c6-513a-41e3-b2f4-68aae18b8435"
      },
      "source": [
        "1. Посчитайте количество записей в датасете с отсутствующей информацией о жилой площади жилого помещения"
      ]
    },
    {
      "cell_type": "code",
      "execution_count": 11,
      "id": "e74655aa-b97c-42e5-b972-e0753ddc2331",
      "metadata": {
        "colab": {
          "base_uri": "https://localhost:8080/"
        },
        "id": "e74655aa-b97c-42e5-b972-e0753ddc2331",
        "outputId": "36779a89-ad04-4492-ac92-c2fc91893813"
      },
      "outputs": [
        {
          "output_type": "stream",
          "name": "stdout",
          "text": [
            "Количество записей с отсутствующей информацией о жилой площади: 6383\n"
          ]
        }
      ],
      "source": [
        "missing_life_sq_count = df['life_sq'].isnull().sum()"
      ]
    },
    {
      "cell_type": "markdown",
      "id": "eee028a5-9311-4a4f-b4ac-1fb75acfb4b3",
      "metadata": {
        "id": "eee028a5-9311-4a4f-b4ac-1fb75acfb4b3"
      },
      "source": [
        "2. Предложите способ заменить отсутствующие значения из пункта 1 и реализуйте его. Способ нужно аргументировать(сказать почему это достаточно хорошее приближение)"
      ]
    },
    {
      "cell_type": "code",
      "execution_count": 20,
      "id": "ac0fb641-96d2-4e7c-88d5-636ce3b699d2",
      "metadata": {
        "colab": {
          "base_uri": "https://localhost:8080/"
        },
        "id": "ac0fb641-96d2-4e7c-88d5-636ce3b699d2",
        "outputId": "643549dd-e436-40a6-8710-7307d94de986"
      },
      "outputs": [
        {
          "output_type": "stream",
          "name": "stdout",
          "text": [
            "Средняя доля жилой площади от общей (финальный расчет): 0.6337\n",
            "\n",
            "Количество пропусков (NaN) в 'life_sq' после замены: 0\n"
          ]
        }
      ],
      "source": [
        "sane_data_mask = ((df['full_sq'] > 0) & (df['life_sq'].notna()) &\n",
        "    (~np.isinf(df['life_sq'])) & (df['full_sq'] >= df['life_sq']))\n",
        "sane_data = df[sane_data_mask]\n",
        "avg_life_full_sq_ratio = (sane_data['life_sq'] / sane_data['full_sq']).mean()\n",
        "imputed_values = df.loc[df['life_sq'].isnull(), 'full_sq'] * avg_life_full_sq_ratio\n",
        "df['life_sq'] = df['life_sq'].fillna(imputed_values)\n",
        "missing_after_fill = df['life_sq'].isnull().sum()\n",
        "\n",
        "# Вместо заполнения условными 0 или еще чем-то, логично посчитать среднюю\n",
        "# долю жилой площади от общей площади для тех помещений, где все нормально,\n",
        "# и просто заполнить эти поля данными значениями. Так мы сможем сохранять\n",
        "# общую пропорциональность"
      ]
    },
    {
      "cell_type": "markdown",
      "id": "cd7979ba-2fa8-4fd3-986d-26cee122da1f",
      "metadata": {
        "id": "cd7979ba-2fa8-4fd3-986d-26cee122da1f"
      },
      "source": [
        "3. Какие значения имеет 25, 50 и 75 перцентили полной площади помещения"
      ]
    },
    {
      "cell_type": "code",
      "execution_count": 21,
      "id": "3915f77b-116c-482b-8644-2f5f11931af9",
      "metadata": {
        "colab": {
          "base_uri": "https://localhost:8080/"
        },
        "id": "3915f77b-116c-482b-8644-2f5f11931af9",
        "outputId": "c486fe90-3db5-4264-e92f-4732ac47b089"
      },
      "outputs": [
        {
          "output_type": "stream",
          "name": "stdout",
          "text": [
            "Значения перцентилей для полной площади помещения (full_sq):\n",
            "------------------------------------------------------------\n",
            "25-й перцентиль (Q1):   38.00 кв.м.\n",
            "50-й перцентиль (Медиана): 49.00 кв.м.\n",
            "75-й перцентиль (Q3):   63.00 кв.м.\n"
          ]
        }
      ],
      "source": [
        "full_sq_percentiles = df['full_sq'].quantile([0.25, 0.50, 0.75])\n",
        "print(f\"25-й перцентиль (Q1):   {full_sq_percentiles.loc[0.25]:.2f} кв.м.\")\n",
        "print(f\"50-й перцентиль (Медиана): {full_sq_percentiles.loc[0.50]:.2f} кв.м.\")\n",
        "print(f\"75-й перцентиль (Q3):   {full_sq_percentiles.loc[0.75]:.2f} кв.м.\")\n",
        "\n",
        "# 25: 38.00\n",
        "# 50: 49.00\n",
        "# 75: 63.00"
      ]
    },
    {
      "cell_type": "markdown",
      "id": "1b69ba67-61a8-4765-9795-cfab1a09e929",
      "metadata": {
        "id": "1b69ba67-61a8-4765-9795-cfab1a09e929"
      },
      "source": [
        "4. Посчитайте среднюю стоимость продажи помещений с общей площадью от 50 до 70 квадратных метров"
      ]
    },
    {
      "cell_type": "code",
      "execution_count": 24,
      "id": "1228d2e9-fc56-4240-95c6-c98a8b84c016",
      "metadata": {
        "colab": {
          "base_uri": "https://localhost:8080/"
        },
        "id": "1228d2e9-fc56-4240-95c6-c98a8b84c016",
        "outputId": "8d054aac-c234-4292-b0c4-1966252e3f23"
      },
      "outputs": [
        {
          "output_type": "stream",
          "name": "stdout",
          "text": [
            "7243041.190994609\n"
          ]
        }
      ],
      "source": [
        "square = (df['full_sq'] >= 50) & (df['full_sq'] <= 70)\n",
        "filtered_prices = df.loc[square, 'price_doc']\n",
        "average_price = filtered_prices.mean()\n",
        "print(average_price)"
      ]
    },
    {
      "cell_type": "markdown",
      "id": "5acec4fd-f740-49a8-a5d8-562d358239c9",
      "metadata": {
        "id": "5acec4fd-f740-49a8-a5d8-562d358239c9"
      },
      "source": [
        "5. Какая максимальная этажность здания представлена в датасете"
      ]
    },
    {
      "cell_type": "code",
      "execution_count": 26,
      "id": "cac8daef-f4e8-4c8b-b7f4-d41a6adf35ed",
      "metadata": {
        "colab": {
          "base_uri": "https://localhost:8080/"
        },
        "id": "cac8daef-f4e8-4c8b-b7f4-d41a6adf35ed",
        "outputId": "6cdf7552-68b5-4052-8ad6-4cb4d54f1ee4"
      },
      "outputs": [
        {
          "output_type": "stream",
          "name": "stdout",
          "text": [
            "117.0\n"
          ]
        }
      ],
      "source": [
        "max_building_floor = df['max_floor'].max()\n",
        "print(max_building_floor)"
      ]
    },
    {
      "cell_type": "markdown",
      "id": "8d6171a9-0f75-4f3e-ac54-95d03d1f70b6",
      "metadata": {
        "id": "8d6171a9-0f75-4f3e-ac54-95d03d1f70b6"
      },
      "source": [
        "6. Выявите район с самым дорогим жильем"
      ]
    },
    {
      "cell_type": "code",
      "execution_count": 28,
      "id": "c64d0892-2fb8-4304-966c-5cbb32b03c0a",
      "metadata": {
        "colab": {
          "base_uri": "https://localhost:8080/"
        },
        "id": "c64d0892-2fb8-4304-966c-5cbb32b03c0a",
        "outputId": "c275f260-6ff9-4e2b-debc-8d9379b31319"
      },
      "outputs": [
        {
          "output_type": "stream",
          "name": "stdout",
          "text": [
            "Hamovniki\n"
          ]
        }
      ],
      "source": [
        "median_prices = df.groupby('sub_area')['price_doc'].median()\n",
        "most_expensive_block = median_prices.idxmax()\n",
        "print(most_expensive_block)"
      ]
    },
    {
      "cell_type": "markdown",
      "id": "d29320f9-aef8-452c-9d61-0afa72dd93b6",
      "metadata": {
        "id": "d29320f9-aef8-452c-9d61-0afa72dd93b6"
      },
      "source": [
        "7. Посчитайте среднюю стоимость за квадратный метр жилья в Митино(Mitino)"
      ]
    },
    {
      "cell_type": "code",
      "execution_count": 34,
      "id": "d04e1904-f9f3-40bd-abbd-4d53ee9f7bd2",
      "metadata": {
        "colab": {
          "base_uri": "https://localhost:8080/"
        },
        "id": "d04e1904-f9f3-40bd-abbd-4d53ee9f7bd2",
        "outputId": "59c79f95-6c4b-47e4-c637-f2c325813edc"
      },
      "outputs": [
        {
          "output_type": "stream",
          "name": "stdout",
          "text": [
            "171841.39999559196\n"
          ]
        }
      ],
      "source": [
        "mitino = df[df['sub_area'] == 'Mitino']\n",
        "price_per_sq_meter = mitino['price_doc'] / mitino['full_sq']\n",
        "average_price = price_per_sq_meter.mean()\n",
        "print(average_price)"
      ]
    },
    {
      "cell_type": "markdown",
      "id": "1d447d6e-cfde-411c-9078-cd8f41f02d8b",
      "metadata": {
        "id": "1d447d6e-cfde-411c-9078-cd8f41f02d8b"
      },
      "source": [
        "8. Посчитайте среднюю площадь комнаты в Бибирево"
      ]
    },
    {
      "cell_type": "code",
      "execution_count": 42,
      "id": "b30df6b1-5eca-43da-a115-1c1a3cbfd899",
      "metadata": {
        "colab": {
          "base_uri": "https://localhost:8080/"
        },
        "id": "b30df6b1-5eca-43da-a115-1c1a3cbfd899",
        "outputId": "6033c8f2-5be2-435b-8d64-ad88bc99bf3a"
      },
      "outputs": [
        {
          "output_type": "stream",
          "name": "stdout",
          "text": [
            "16.06687657275503\n"
          ]
        }
      ],
      "source": [
        "bibirevo_df = df[df['sub_area'] == 'Bibirevo']\n",
        "avg_room_area_per_flat = bibirevo_df['life_sq'] / bibirevo_df['num_room']\n",
        "overall_avg_room_area = avg_room_area_per_flat.mean()\n",
        "print(overall_avg_room_area)"
      ]
    },
    {
      "cell_type": "markdown",
      "id": "c41d5d99-65f7-4d17-82ae-971ec959f327",
      "metadata": {
        "id": "c41d5d99-65f7-4d17-82ae-971ec959f327"
      },
      "source": [
        "9. Проанализируйте есть ли разница в цене между квартирами на 1 и 9 этажах"
      ]
    },
    {
      "cell_type": "code",
      "execution_count": 45,
      "id": "275bcc04-659b-4521-a9e5-200a5f4ef674",
      "metadata": {
        "colab": {
          "base_uri": "https://localhost:8080/"
        },
        "id": "275bcc04-659b-4521-a9e5-200a5f4ef674",
        "outputId": "3c83ce4f-6cb5-412f-b59e-27cfda15299f"
      },
      "outputs": [
        {
          "output_type": "stream",
          "name": "stdout",
          "text": [
            "9 этаж в среднем дороже на: 2.99%\n"
          ]
        }
      ],
      "source": [
        "first_floor = df[(df['floor'] == 1)]\n",
        "ninth_floor = df[(df['floor'] == 9)]\n",
        "median_price_sqm_1st = (first_floor['price_doc'] / first_floor['full_sq']).median()\n",
        "median_price_sqm_9th = (ninth_floor['price_doc'] / ninth_floor['full_sq']).median()\n",
        "\n",
        "price_difference_percent = ((median_price_sqm_9th - median_price_sqm_1st) / median_price_sqm_1st) * 100\n",
        "\n",
        "if price_difference_percent > 0:\n",
        "    print(f\"9 этаж в среднем дороже на: {price_difference_percent:.2f}%\")\n",
        "elif price_difference_percent < 0:\n",
        "    print(f\"9 этаж в среднем дешевле на: {abs(price_difference_percent):.2f}%\")\n",
        "else:\n",
        "    print(\"Шо то..., шо это....\")"
      ]
    },
    {
      "cell_type": "markdown",
      "id": "a1f7a5c0-259c-4837-a5d1-2dfc05e7c13e",
      "metadata": {
        "id": "a1f7a5c0-259c-4837-a5d1-2dfc05e7c13e"
      },
      "source": [
        "10. Найдите минимальную стоимость квартиры с жилой площадью не менее 60 квадратных метров, не менее чем 3мя комнатами и не ниже чем на 5 этаже"
      ]
    },
    {
      "cell_type": "code",
      "execution_count": 48,
      "id": "a2da4d57-edb4-4179-8bee-3deda6cd00e6",
      "metadata": {
        "colab": {
          "base_uri": "https://localhost:8080/"
        },
        "id": "a2da4d57-edb4-4179-8bee-3deda6cd00e6",
        "outputId": "e0c54d13-6d8c-4535-ee3c-b857f549a7df"
      },
      "outputs": [
        {
          "output_type": "stream",
          "name": "stdout",
          "text": [
            "1000000\n"
          ]
        }
      ],
      "source": [
        "mask = (\n",
        "    (df['life_sq'] >= 60) &\n",
        "    (df['num_room'] >= 3) &\n",
        "    (df['floor'] >= 5)\n",
        ")\n",
        "filtered_prices = df.loc[mask, 'price_doc']\n",
        "min_price = filtered_prices.min()\n",
        "if pd.notna(min_price):\n",
        "    print(min_price)\n",
        "else:\n",
        "    print(\"Пока такое не построили\")"
      ]
    },
    {
      "cell_type": "markdown",
      "id": "deb4ca3a-3d8a-4205-bee9-d26fd28638b2",
      "metadata": {
        "id": "deb4ca3a-3d8a-4205-bee9-d26fd28638b2"
      },
      "source": [
        "### 3. Визуализация"
      ]
    },
    {
      "cell_type": "markdown",
      "id": "f8941ce1-cbf2-465a-b013-1b84aeb999ef",
      "metadata": {
        "id": "f8941ce1-cbf2-465a-b013-1b84aeb999ef"
      },
      "source": [
        "Используя библиотеки matplotlib/sns/plotly/pandas и набор данных представленный ранее визуализируйте"
      ]
    },
    {
      "cell_type": "markdown",
      "id": "5e98ce6f-8d02-4120-ad85-241494c038d6",
      "metadata": {
        "id": "5e98ce6f-8d02-4120-ad85-241494c038d6"
      },
      "source": [
        "1. Как менялась средняя цена квартиры в Нагатинском Затоне(Nagatinski Zaton) с течением времени"
      ]
    },
    {
      "cell_type": "code",
      "execution_count": 70,
      "id": "664666b2-17b7-49dd-a3bd-c4be9361755d",
      "metadata": {
        "colab": {
          "base_uri": "https://localhost:8080/",
          "height": 457
        },
        "id": "664666b2-17b7-49dd-a3bd-c4be9361755d",
        "outputId": "db3f00f1-5640-473f-f7fe-a888a45816ac"
      },
      "outputs": [
        {
          "output_type": "display_data",
          "data": {
            "text/plain": [
              "<Figure size 1200x600 with 1 Axes>"
            ],
            "image/png": "[encoded data removed]"
          },
          "metadata": {}
        }
      ],
      "source": [
        "zaton_df = df[df['sub_area'] == 'Nagatinskij Zaton'].copy()\n",
        "zaton_df['timestamp'] = pd.to_datetime(zaton_df['timestamp'])\n",
        "monthly_avg_price = zaton_df.groupby(pd.Grouper(key='timestamp', freq='ME'))['price_doc'].mean().reset_index()\n",
        "plt.figure(figsize=(12, 6))\n",
        "sns.lineplot(data=monthly_avg_price, x='timestamp', y='price_doc', marker='o')\n",
        "plt.title('Динамика средней цены на квартиры в районе \"Нагатинский Затон\"')\n",
        "plt.xlabel('Дата')\n",
        "plt.ylabel('Средняя цена')\n",
        "plt.xticks(rotation=45)\n",
        "plt.tight_layout()\n",
        "plt.show()"
      ]
    },
    {
      "cell_type": "markdown",
      "id": "4c7500bb-36ca-4ea7-bc3c-4f15afbd4c41",
      "metadata": {
        "id": "4c7500bb-36ca-4ea7-bc3c-4f15afbd4c41"
      },
      "source": [
        "2. Постройте гистограмму распределения цен на квартиры с общей площадью более 50 кв.метров"
      ]
    },
    {
      "cell_type": "code",
      "execution_count": 58,
      "id": "7325e7f8-5f00-4a82-8184-7064505f7ccd",
      "metadata": {
        "colab": {
          "base_uri": "https://localhost:8080/",
          "height": 566
        },
        "id": "7325e7f8-5f00-4a82-8184-7064505f7ccd",
        "outputId": "04f68527-4d98-402c-c366-d1a3a9a81908"
      },
      "outputs": [
        {
          "output_type": "display_data",
          "data": {
            "text/plain": [
              "<Figure size 1200x700 with 1 Axes>"
            ],
            "image/png": "[encoded data removed]"
          },
          "metadata": {}
        }
      ],
      "source": [
        "large_apartments_df = df[df['full_sq'] > 50].copy()\n",
        "plt.figure(figsize=(12, 7))\n",
        "sns.histplot(\n",
        "    data=large_apartments_df,\n",
        "    x='price_doc',\n",
        "    kde=True,\n",
        "    bins=50\n",
        ")\n",
        "\n",
        "plt.title('Распределение цен на квартиры площадью более 50 кв.м.', fontsize=16)\n",
        "plt.xlabel('Цена (в млн.)', fontsize=12)\n",
        "plt.ylabel('Количество квартир)', fontsize=12)\n",
        "\n",
        "formatter = plt.FuncFormatter(lambda x, pos: f'{x / 1_000_000:.0f}')\n",
        "plt.gca().xaxis.set_major_formatter(formatter)\n",
        "\n",
        "plt.show()"
      ]
    },
    {
      "cell_type": "markdown",
      "id": "efdd0669-36e0-4708-ac6b-ad0d92881113",
      "metadata": {
        "id": "efdd0669-36e0-4708-ac6b-ad0d92881113"
      },
      "source": [
        "3. Визуализируйте количество проданных квартир в разных районах"
      ]
    },
    {
      "cell_type": "code",
      "execution_count": 62,
      "id": "7504a170-04a1-4b86-924d-8d46be16fd3c",
      "metadata": {
        "colab": {
          "base_uri": "https://localhost:8080/",
          "height": 617
        },
        "id": "7504a170-04a1-4b86-924d-8d46be16fd3c",
        "outputId": "354dc7bb-234a-4191-d142-1d9f7f02e41e"
      },
      "outputs": [
        {
          "output_type": "display_data",
          "data": {
            "text/html": [
              "<html>\n",
              "<head><meta charset=\"utf-8\" /></head>\n",
              "<body>\n",
              "    <div>            <script src=\"https://cdnjs.cloudflare.com/ajax/libs/mathjax/2.7.5/MathJax.js?config=TeX-AMS-MML_SVG\"></script><script type=\"text/javascript\">if (window.MathJax && window.MathJax.Hub && window.MathJax.Hub.Config) {window.MathJax.Hub.Config({SVG: {font: \"STIX-Web\"}});}</script>                <script type=\"text/javascript\">window.PlotlyConfig = {MathJaxConfig: 'local'};</script>\n",
              "        <script charset=\"utf-8\" src=\"https://cdn.plot.ly/plotly-2.35.2.min.js\"></script>                <div id=\"d2b7c5ea-b3bb-4dda-aaf5-3d9755c56bb6\" class=\"plotly-graph-div\" style=\"height:600px; width:100%;\"></div>            <script type=\"text/javascript\">                                    window.PLOTLYENV=window.PLOTLYENV || {};                                    if (document.getElementById(\"d2b7c5ea-b3bb-4dda-aaf5-3d9755c56bb6\")) {                    Plotly.newPlot(                        \"d2b7c5ea-b3bb-4dda-aaf5-3d9755c56bb6\",                        [{\"alignmentgroup\":\"True\",\"hovertemplate\":\"Район=%{x}\\u003cbr\\u003eКоличество квартир=%{y}\\u003cextra\\u003e\\u003c\\u002fextra\\u003e\",\"legendgroup\":\"\",\"marker\":{\"color\":\"#636efa\",\"pattern\":{\"shape\":\"\"}},\"name\":\"\",\"offsetgroup\":\"\",\"orientation\":\"v\",\"showlegend\":false,\"textposition\":\"auto\",\"x\":[\"Poselenie Sosenskoe\",\"Nekrasovka\",\"Poselenie Vnukovskoe\",\"Poselenie Moskovskij\",\"Poselenie Voskresenskoe\",\"Mitino\",\"Tverskoe\",\"Krjukovo\",\"Mar'ino\",\"Poselenie Filimonkovskoe\",\"Juzhnoe Butovo\",\"Poselenie Shherbinka\",\"Solncevo\",\"Zapadnoe Degunino\",\"Poselenie Desjonovskoe\",\"Otradnoe\",\"Nagatinskij Zaton\",\"Nagornoe\",\"Bogorodskoe\",\"Strogino\",\"Izmajlovo\",\"Tekstil'shhiki\",\"Ljublino\",\"Gol'janovo\",\"Severnoe Tushino\",\"Chertanovo Juzhnoe\",\"Birjulevo Vostochnoe\",\"Vyhino-Zhulebino\",\"Horoshevo-Mnevniki\",\"Zjuzino\",\"Ochakovo-Matveevskoe\",\"Perovo\",\"Ramenki\",\"Kosino-Uhtomskoe\",\"Jasenevo\",\"Bibirevo\",\"Golovinskoe\",\"Kuz'minki\",\"Kon'kovo\",\"Caricyno\",\"Veshnjaki\",\"Akademicheskoe\",\"Orehovo-Borisovo Juzhnoe\",\"Koptevo\",\"Orehovo-Borisovo Severnoe\",\"Novogireevo\",\"Chertanovo Severnoe\",\"Danilovskoe\",\"Ivanovskoe\",\"Mozhajskoe\",\"Chertanovo Central'noe\",\"Pechatniki\",\"Presnenskoe\",\"Sokolinaja Gora\",\"Obruchevskoe\",\"Kuncevo\",\"Severnoe Butovo\",\"Brateevo\",\"Rjazanskij\",\"Hovrino\",\"Losinoostrovskoe\",\"Juzhnoe Tushino\",\"Dmitrovskoe\",\"Taganskoe\",\"Severnoe Medvedkovo\",\"Beskudnikovskoe\",\"Teplyj Stan\",\"Pokrovskoe Streshnevo\",\"Severnoe Izmajlovo\",\"Troickij okrug\",\"Nagatino-Sadovniki\",\"Cheremushki\",\"Shhukino\",\"Vostochnoe Izmajlovo\",\"Timirjazevskoe\",\"Preobrazhenskoe\",\"Novo-Peredelkino\",\"Filevskij Park\",\"Poselenie Novofedorovskoe\",\"Kotlovka\",\"Lomonosovskoe\",\"Juzhnoe Medvedkovo\",\"Poselenie Pervomajskoe\",\"Novokosino\",\"Fili Davydkovo\",\"Horoshevskoe\",\"Levoberezhnoe\",\"Donskoe\",\"Sviblovo\",\"Vojkovskoe\",\"Zjablikovo\",\"Juzhnoportovoe\",\"Lianozovo\",\"Troparevo-Nikulino\",\"Ajeroport\",\"Babushkinskoe\",\"Jaroslavskoe\",\"Lefortovo\",\"Vostochnoe Degunino\",\"Mar'ina Roshha\",\"Birjulevo Zapadnoe\",\"Matushkino\",\"Savelki\",\"Krylatskoe\",\"Butyrskoe\",\"Silino\",\"Alekseevskoe\",\"Prospekt Vernadskogo\",\"Moskvorech'e-Saburovo\",\"Basmannoe\",\"Meshhanskoe\",\"Staroe Krjukovo\",\"Hamovniki\",\"Savelovskoe\",\"Marfino\",\"Jakimanka\",\"Ostankinskoe\",\"Gagarinskoe\",\"Nizhegorodskoe\",\"Sokol\",\"Altuf'evskoe\",\"Rostokino\",\"Kurkino\",\"Sokol'niki\",\"Begovoe\",\"Metrogorodok\",\"Dorogomilovo\",\"Zamoskvorech'e\",\"Kapotnja\",\"Vnukovo\",\"Krasnosel'skoe\",\"Severnoe\",\"Poselenie Rjazanovskoe\",\"Poselenie Rogovskoe\",\"Poselenie Krasnopahorskoe\",\"Poselenie Kokoshkino\",\"Poselenie Mosrentgen\",\"Arbat\",\"Vostochnoe\",\"Poselenie Voronovskoe\",\"Poselenie Marushkinskoe\",\"Molzhaninovskoe\",\"Poselenie Shhapovskoe\",\"Poselenie Kievskij\",\"Poselenie Klenovskoe\",\"Poselenie Mihajlovo-Jarcevskoe\"],\"xaxis\":\"x\",\"y\":[1776,1611,1372,925,713,679,678,518,508,496,451,443,421,410,362,353,327,305,305,301,300,298,297,295,282,273,268,264,262,259,255,247,241,237,237,230,224,220,220,220,213,211,208,207,206,201,200,199,197,197,196,192,190,188,185,184,182,182,180,178,177,175,174,173,167,166,165,164,163,158,158,158,155,154,154,152,149,148,148,147,147,143,142,139,137,136,135,135,131,131,127,126,126,126,123,123,121,119,118,116,115,111,105,103,101,100,100,100,99,98,94,92,90,85,85,81,79,79,77,72,68,64,62,60,60,58,56,50,49,44,37,37,34,31,27,20,19,15,7,7,6,3,2,2,1,1],\"yaxis\":\"y\",\"type\":\"bar\"}],                        {\"template\":{\"data\":{\"histogram2dcontour\":[{\"type\":\"histogram2dcontour\",\"colorbar\":{\"outlinewidth\":0,\"ticks\":\"\"},\"colorscale\":[[0.0,\"#0d0887\"],[0.1111111111111111,\"#46039f\"],[0.2222222222222222,\"#7201a8\"],[0.3333333333333333,\"#9c179e\"],[0.4444444444444444,\"#bd3786\"],[0.5555555555555556,\"#d8576b\"],[0.6666666666666666,\"#ed7953\"],[0.7777777777777778,\"#fb9f3a\"],[0.8888888888888888,\"#fdca26\"],[1.0,\"#f0f921\"]]}],\"choropleth\":[{\"type\":\"choropleth\",\"colorbar\":{\"outlinewidth\":0,\"ticks\":\"\"}}],\"histogram2d\":[{\"type\":\"histogram2d\",\"colorbar\":{\"outlinewidth\":0,\"ticks\":\"\"},\"colorscale\":[[0.0,\"#0d0887\"],[0.1111111111111111,\"#46039f\"],[0.2222222222222222,\"#7201a8\"],[0.3333333333333333,\"#9c179e\"],[0.4444444444444444,\"#bd3786\"],[0.5555555555555556,\"#d8576b\"],[0.6666666666666666,\"#ed7953\"],[0.7777777777777778,\"#fb9f3a\"],[0.8888888888888888,\"#fdca26\"],[1.0,\"#f0f921\"]]}],\"heatmap\":[{\"type\":\"heatmap\",\"colorbar\":{\"outlinewidth\":0,\"ticks\":\"\"},\"colorscale\":[[0.0,\"#0d0887\"],[0.1111111111111111,\"#46039f\"],[0.2222222222222222,\"#7201a8\"],[0.3333333333333333,\"#9c179e\"],[0.4444444444444444,\"#bd3786\"],[0.5555555555555556,\"#d8576b\"],[0.6666666666666666,\"#ed7953\"],[0.7777777777777778,\"#fb9f3a\"],[0.8888888888888888,\"#fdca26\"],[1.0,\"#f0f921\"]]}],\"heatmapgl\":[{\"type\":\"heatmapgl\",\"colorbar\":{\"outlinewidth\":0,\"ticks\":\"\"},\"colorscale\":[[0.0,\"#0d0887\"],[0.1111111111111111,\"#46039f\"],[0.2222222222222222,\"#7201a8\"],[0.3333333333333333,\"#9c179e\"],[0.4444444444444444,\"#bd3786\"],[0.5555555555555556,\"#d8576b\"],[0.6666666666666666,\"#ed7953\"],[0.7777777777777778,\"#fb9f3a\"],[0.8888888888888888,\"#fdca26\"],[1.0,\"#f0f921\"]]}],\"contourcarpet\":[{\"type\":\"contourcarpet\",\"colorbar\":{\"outlinewidth\":0,\"ticks\":\"\"}}],\"contour\":[{\"type\":\"contour\",\"colorbar\":{\"outlinewidth\":0,\"ticks\":\"\"},\"colorscale\":[[0.0,\"#0d0887\"],[0.1111111111111111,\"#46039f\"],[0.2222222222222222,\"#7201a8\"],[0.3333333333333333,\"#9c179e\"],[0.4444444444444444,\"#bd3786\"],[0.5555555555555556,\"#d8576b\"],[0.6666666666666666,\"#ed7953\"],[0.7777777777777778,\"#fb9f3a\"],[0.8888888888888888,\"#fdca26\"],[1.0,\"#f0f921\"]]}],\"surface\":[{\"type\":\"surface\",\"colorbar\":{\"outlinewidth\":0,\"ticks\":\"\"},\"colorscale\":[[0.0,\"#0d0887\"],[0.1111111111111111,\"#46039f\"],[0.2222222222222222,\"#7201a8\"],[0.3333333333333333,\"#9c179e\"],[0.4444444444444444,\"#bd3786\"],[0.5555555555555556,\"#d8576b\"],[0.6666666666666666,\"#ed7953\"],[0.7777777777777778,\"#fb9f3a\"],[0.8888888888888888,\"#fdca26\"],[1.0,\"#f0f921\"]]}],\"mesh3d\":[{\"type\":\"mesh3d\",\"colorbar\":{\"outlinewidth\":0,\"ticks\":\"\"}}],\"scatter\":[{\"fillpattern\":{\"fillmode\":\"overlay\",\"size\":10,\"solidity\":0.2},\"type\":\"scatter\"}],\"parcoords\":[{\"type\":\"parcoords\",\"line\":{\"colorbar\":{\"outlinewidth\":0,\"ticks\":\"\"}}}],\"scatterpolargl\":[{\"type\":\"scatterpolargl\",\"marker\":{\"colorbar\":{\"outlinewidth\":0,\"ticks\":\"\"}}}],\"bar\":[{\"error_x\":{\"color\":\"#2a3f5f\"},\"error_y\":{\"color\":\"#2a3f5f\"},\"marker\":{\"line\":{\"color\":\"#E5ECF6\",\"width\":0.5},\"pattern\":{\"fillmode\":\"overlay\",\"size\":10,\"solidity\":0.2}},\"type\":\"bar\"}],\"scattergeo\":[{\"type\":\"scattergeo\",\"marker\":{\"colorbar\":{\"outlinewidth\":0,\"ticks\":\"\"}}}],\"scatterpolar\":[{\"type\":\"scatterpolar\",\"marker\":{\"colorbar\":{\"outlinewidth\":0,\"ticks\":\"\"}}}],\"histogram\":[{\"marker\":{\"pattern\":{\"fillmode\":\"overlay\",\"size\":10,\"solidity\":0.2}},\"type\":\"histogram\"}],\"scattergl\":[{\"type\":\"scattergl\",\"marker\":{\"colorbar\":{\"outlinewidth\":0,\"ticks\":\"\"}}}],\"scatter3d\":[{\"type\":\"scatter3d\",\"line\":{\"colorbar\":{\"outlinewidth\":0,\"ticks\":\"\"}},\"marker\":{\"colorbar\":{\"outlinewidth\":0,\"ticks\":\"\"}}}],\"scattermapbox\":[{\"type\":\"scattermapbox\",\"marker\":{\"colorbar\":{\"outlinewidth\":0,\"ticks\":\"\"}}}],\"scatterternary\":[{\"type\":\"scatterternary\",\"marker\":{\"colorbar\":{\"outlinewidth\":0,\"ticks\":\"\"}}}],\"scattercarpet\":[{\"type\":\"scattercarpet\",\"marker\":{\"colorbar\":{\"outlinewidth\":0,\"ticks\":\"\"}}}],\"carpet\":[{\"aaxis\":{\"endlinecolor\":\"#2a3f5f\",\"gridcolor\":\"white\",\"linecolor\":\"white\",\"minorgridcolor\":\"white\",\"startlinecolor\":\"#2a3f5f\"},\"baxis\":{\"endlinecolor\":\"#2a3f5f\",\"gridcolor\":\"white\",\"linecolor\":\"white\",\"minorgridcolor\":\"white\",\"startlinecolor\":\"#2a3f5f\"},\"type\":\"carpet\"}],\"table\":[{\"cells\":{\"fill\":{\"color\":\"#EBF0F8\"},\"line\":{\"color\":\"white\"}},\"header\":{\"fill\":{\"color\":\"#C8D4E3\"},\"line\":{\"color\":\"white\"}},\"type\":\"table\"}],\"barpolar\":[{\"marker\":{\"line\":{\"color\":\"#E5ECF6\",\"width\":0.5},\"pattern\":{\"fillmode\":\"overlay\",\"size\":10,\"solidity\":0.2}},\"type\":\"barpolar\"}],\"pie\":[{\"automargin\":true,\"type\":\"pie\"}]},\"layout\":{\"autotypenumbers\":\"strict\",\"colorway\":[\"#636efa\",\"#EF553B\",\"#00cc96\",\"#ab63fa\",\"#FFA15A\",\"#19d3f3\",\"#FF6692\",\"#B6E880\",\"#FF97FF\",\"#FECB52\"],\"font\":{\"color\":\"#2a3f5f\"},\"hovermode\":\"closest\",\"hoverlabel\":{\"align\":\"left\"},\"paper_bgcolor\":\"white\",\"plot_bgcolor\":\"#E5ECF6\",\"polar\":{\"bgcolor\":\"#E5ECF6\",\"angularaxis\":{\"gridcolor\":\"white\",\"linecolor\":\"white\",\"ticks\":\"\"},\"radialaxis\":{\"gridcolor\":\"white\",\"linecolor\":\"white\",\"ticks\":\"\"}},\"ternary\":{\"bgcolor\":\"#E5ECF6\",\"aaxis\":{\"gridcolor\":\"white\",\"linecolor\":\"white\",\"ticks\":\"\"},\"baxis\":{\"gridcolor\":\"white\",\"linecolor\":\"white\",\"ticks\":\"\"},\"caxis\":{\"gridcolor\":\"white\",\"linecolor\":\"white\",\"ticks\":\"\"}},\"coloraxis\":{\"colorbar\":{\"outlinewidth\":0,\"ticks\":\"\"}},\"colorscale\":{\"sequential\":[[0.0,\"#0d0887\"],[0.1111111111111111,\"#46039f\"],[0.2222222222222222,\"#7201a8\"],[0.3333333333333333,\"#9c179e\"],[0.4444444444444444,\"#bd3786\"],[0.5555555555555556,\"#d8576b\"],[0.6666666666666666,\"#ed7953\"],[0.7777777777777778,\"#fb9f3a\"],[0.8888888888888888,\"#fdca26\"],[1.0,\"#f0f921\"]],\"sequentialminus\":[[0.0,\"#0d0887\"],[0.1111111111111111,\"#46039f\"],[0.2222222222222222,\"#7201a8\"],[0.3333333333333333,\"#9c179e\"],[0.4444444444444444,\"#bd3786\"],[0.5555555555555556,\"#d8576b\"],[0.6666666666666666,\"#ed7953\"],[0.7777777777777778,\"#fb9f3a\"],[0.8888888888888888,\"#fdca26\"],[1.0,\"#f0f921\"]],\"diverging\":[[0,\"#8e0152\"],[0.1,\"#c51b7d\"],[0.2,\"#de77ae\"],[0.3,\"#f1b6da\"],[0.4,\"#fde0ef\"],[0.5,\"#f7f7f7\"],[0.6,\"#e6f5d0\"],[0.7,\"#b8e186\"],[0.8,\"#7fbc41\"],[0.9,\"#4d9221\"],[1,\"#276419\"]]},\"xaxis\":{\"gridcolor\":\"white\",\"linecolor\":\"white\",\"ticks\":\"\",\"title\":{\"standoff\":15},\"zerolinecolor\":\"white\",\"automargin\":true,\"zerolinewidth\":2},\"yaxis\":{\"gridcolor\":\"white\",\"linecolor\":\"white\",\"ticks\":\"\",\"title\":{\"standoff\":15},\"zerolinecolor\":\"white\",\"automargin\":true,\"zerolinewidth\":2},\"scene\":{\"xaxis\":{\"backgroundcolor\":\"#E5ECF6\",\"gridcolor\":\"white\",\"linecolor\":\"white\",\"showbackground\":true,\"ticks\":\"\",\"zerolinecolor\":\"white\",\"gridwidth\":2},\"yaxis\":{\"backgroundcolor\":\"#E5ECF6\",\"gridcolor\":\"white\",\"linecolor\":\"white\",\"showbackground\":true,\"ticks\":\"\",\"zerolinecolor\":\"white\",\"gridwidth\":2},\"zaxis\":{\"backgroundcolor\":\"#E5ECF6\",\"gridcolor\":\"white\",\"linecolor\":\"white\",\"showbackground\":true,\"ticks\":\"\",\"zerolinecolor\":\"white\",\"gridwidth\":2}},\"shapedefaults\":{\"line\":{\"color\":\"#2a3f5f\"}},\"annotationdefaults\":{\"arrowcolor\":\"#2a3f5f\",\"arrowhead\":0,\"arrowwidth\":1},\"geo\":{\"bgcolor\":\"white\",\"landcolor\":\"#E5ECF6\",\"subunitcolor\":\"white\",\"showland\":true,\"showlakes\":true,\"lakecolor\":\"white\"},\"title\":{\"x\":0.05},\"mapbox\":{\"style\":\"light\"}}},\"xaxis\":{\"anchor\":\"y\",\"domain\":[0.0,1.0],\"title\":{\"text\":\"Район\"},\"tickangle\":90,\"showticklabels\":false},\"yaxis\":{\"anchor\":\"x\",\"domain\":[0.0,1.0],\"title\":{\"text\":\"Количество квартир\"}},\"legend\":{\"tracegroupgap\":0},\"title\":{\"text\":\"Количество проданных квартир в районах\"},\"barmode\":\"relative\",\"height\":600},                        {\"responsive\": true}                    ).then(function(){\n",
              "                            \n",
              "var gd = document.getElementById('d2b7c5ea-b3bb-4dda-aaf5-3d9755c56bb6');\n",
              "var x = new MutationObserver(function (mutations, observer) {{\n",
              "        var display = window.getComputedStyle(gd).display;\n",
              "        if (!display || display === 'none') {{\n",
              "            console.log([gd, 'removed!']);\n",
              "            Plotly.purge(gd);\n",
              "            observer.disconnect();\n",
              "        }}\n",
              "}});\n",
              "\n",
              "// Listen for the removal of the full notebook cells\n",
              "var notebookContainer = gd.closest('#notebook-container');\n",
              "if (notebookContainer) {{\n",
              "    x.observe(notebookContainer, {childList: true});\n",
              "}}\n",
              "\n",
              "// Listen for the clearing of the current output cell\n",
              "var outputEl = gd.closest('.output');\n",
              "if (outputEl) {{\n",
              "    x.observe(outputEl, {childList: true});\n",
              "}}\n",
              "\n",
              "                        })                };                            </script>        </div>\n",
              "</body>\n",
              "</html>"
            ]
          },
          "metadata": {}
        }
      ],
      "source": [
        "all_areas_counts = df['sub_area'].value_counts().reset_index()\n",
        "all_areas_counts.columns = ['sub_area', 'count']\n",
        "all_areas_counts = all_areas_counts.sort_values(by='count', ascending=False)\n",
        "fig = px.bar(\n",
        "    all_areas_counts,\n",
        "    x='sub_area',\n",
        "    y='count',\n",
        "    title='Количество проданных квартир в районах',\n",
        "    labels={\n",
        "        'sub_area': 'Район',\n",
        "        'count': 'Количество квартир'\n",
        "    },\n",
        "    height=600\n",
        ")\n",
        "fig.update_xaxes(tickangle=90, showticklabels=False)\n",
        "\n",
        "fig.show()"
      ]
    },
    {
      "cell_type": "markdown",
      "id": "b5839a48-e992-45fc-81ee-59cb5aa79dda",
      "metadata": {
        "id": "b5839a48-e992-45fc-81ee-59cb5aa79dda"
      },
      "source": [
        "4. Постройте box plot отображающий распределение полных площадей квартир в Басманном районе"
      ]
    },
    {
      "cell_type": "code",
      "execution_count": 69,
      "id": "1a942378-45ea-47a0-bac9-488960491613",
      "metadata": {
        "colab": {
          "base_uri": "https://localhost:8080/",
          "height": 454
        },
        "id": "1a942378-45ea-47a0-bac9-488960491613",
        "outputId": "ef62e880-0b26-412d-984c-36db1d7a9ddd"
      },
      "outputs": [
        {
          "output_type": "display_data",
          "data": {
            "text/plain": [
              "<Figure size 1200x500 with 1 Axes>"
            ],
            "image/png": "[encoded data removed]"
          },
          "metadata": {}
        }
      ],
      "source": [
        "correct_district_name = 'Basmannoe'\n",
        "basmanny_df = df[df['sub_area'] == correct_district_name].copy()\n",
        "plt.figure(figsize=(12, 5))\n",
        "sns.boxplot(data=basmanny_df, x='full_sq', orient='h')\n",
        "plt.title('Распределение полных площадей квартир в Басманном районе', fontsize=16)\n",
        "plt.xlabel('Полная площадь (кв.м.)', fontsize=12)\n",
        "plt.ylabel('')\n",
        "plt.xticks(np.arange(0, basmanny_df['full_sq'].max() + 50, 50))\n",
        "plt.grid(True)\n",
        "plt.show()\n",
        "\n"
      ]
    },
    {
      "cell_type": "markdown",
      "id": "d4c97bef-bb64-43cc-a89f-7510174492ec",
      "metadata": {
        "id": "d4c97bef-bb64-43cc-a89f-7510174492ec"
      },
      "source": [
        "5. Визуализируйте зависимость средней стоимости квартир в зависимости от этажа"
      ]
    },
    {
      "cell_type": "code",
      "execution_count": 71,
      "id": "a1f444af-3544-432c-8dc6-bb74d4cff272",
      "metadata": {
        "colab": {
          "base_uri": "https://localhost:8080/",
          "height": 490
        },
        "id": "a1f444af-3544-432c-8dc6-bb74d4cff272",
        "outputId": "df0733fb-f8c2-45b7-e39a-ddbc80c05918"
      },
      "outputs": [
        {
          "output_type": "display_data",
          "data": {
            "text/plain": [
              "<Figure size 1400x700 with 1 Axes>"
            ],
            "image/png": "[encoded data removed]"
          },
          "metadata": {}
        }
      ],
      "source": [
        "avg_price_by_floor = df.groupby('floor')['price_doc'].mean().reset_index()\n",
        "\n",
        "\n",
        "plt.figure(figsize=(14, 7))\n",
        "sns.lineplot(\n",
        "    data=avg_price_by_floor,\n",
        "    x='floor',\n",
        "    y='price_doc',\n",
        "    marker='o'\n",
        ")\n",
        "\n",
        "plt.title('Зависимость средней стоимости квартиры от этажа', fontsize=16)\n",
        "plt.xlabel('Этаж', fontsize=12)\n",
        "plt.ylabel('Средняя стоимость (в млн.)', fontsize=12)\n",
        "\n",
        "\n",
        "formatter = plt.FuncFormatter(lambda x, pos: f'{x / 1_000_000:.1f}M')\n",
        "plt.gca().yaxis.set_major_formatter(formatter)\n",
        "\n",
        "plt.grid(True)\n",
        "plt.show()"
      ]
    },
    {
      "cell_type": "markdown",
      "id": "a2ab764c-8ac1-4c5a-93ad-8168b0eb4934",
      "metadata": {
        "id": "a2ab764c-8ac1-4c5a-93ad-8168b0eb4934"
      },
      "source": [
        "6. Покажите как меняется средняя площадь квартир в зависимости от района"
      ]
    },
    {
      "cell_type": "code",
      "execution_count": 72,
      "id": "6449e306-fb6c-46d4-bcd8-b6b76fbf69d2",
      "metadata": {
        "colab": {
          "base_uri": "https://localhost:8080/",
          "height": 617
        },
        "id": "6449e306-fb6c-46d4-bcd8-b6b76fbf69d2",
        "outputId": "3da28449-f3b0-462a-8f52-c28f2988bcf8"
      },
      "outputs": [
        {
          "output_type": "display_data",
          "data": {
            "text/html": [
              "<html>\n",
              "<head><meta charset=\"utf-8\" /></head>\n",
              "<body>\n",
              "    <div>            <script src=\"https://cdnjs.cloudflare.com/ajax/libs/mathjax/2.7.5/MathJax.js?config=TeX-AMS-MML_SVG\"></script><script type=\"text/javascript\">if (window.MathJax && window.MathJax.Hub && window.MathJax.Hub.Config) {window.MathJax.Hub.Config({SVG: {font: \"STIX-Web\"}});}</script>                <script type=\"text/javascript\">window.PlotlyConfig = {MathJaxConfig: 'local'};</script>\n",
              "        <script charset=\"utf-8\" src=\"https://cdn.plot.ly/plotly-2.35.2.min.js\"></script>                <div id=\"9cc6638c-aeb6-496e-ab39-4cf4b44ebf16\" class=\"plotly-graph-div\" style=\"height:600px; width:100%;\"></div>            <script type=\"text/javascript\">                                    window.PLOTLYENV=window.PLOTLYENV || {};                                    if (document.getElementById(\"9cc6638c-aeb6-496e-ab39-4cf4b44ebf16\")) {                    Plotly.newPlot(                        \"9cc6638c-aeb6-496e-ab39-4cf4b44ebf16\",                        [{\"alignmentgroup\":\"True\",\"hovertemplate\":\"Район: %{x}\\u003cbr\\u003eСредняя площадь: %{y:.2f} кв.м.\",\"legendgroup\":\"\",\"marker\":{\"color\":\"#636efa\",\"pattern\":{\"shape\":\"\"}},\"name\":\"\",\"offsetgroup\":\"\",\"orientation\":\"v\",\"showlegend\":false,\"textposition\":\"auto\",\"x\":[\"Poselenie Rogovskoe\",\"Kurkino\",\"Obruchevskoe\",\"Poselenie Pervomajskoe\",\"Troparevo-Nikulino\",\"Poselenie Kievskij\",\"Jakimanka\",\"Hamovniki\",\"Molzhaninovskoe\",\"Troickij okrug\",\"Birjulevo Vostochnoe\",\"Poselenie Rjazanovskoe\",\"Zamoskvorech'e\",\"Krylatskoe\",\"Ramenki\",\"Lomonosovskoe\",\"Poselenie Shhapovskoe\",\"Gagarinskoe\",\"Poselenie Krasnopahorskoe\",\"Prospekt Vernadskogo\",\"Presnenskoe\",\"Izmajlovo\",\"Basmannoe\",\"Mitino\",\"Sokol\",\"Vojkovskoe\",\"Donskoe\",\"Tverskoe\",\"Poselenie Moskovskij\",\"Levoberezhnoe\",\"Krasnosel'skoe\",\"Akademicheskoe\",\"Hovrino\",\"Krjukovo\",\"Kuncevo\",\"Poselenie Sosenskoe\",\"Filevskij Park\",\"Begovoe\",\"Sokol'niki\",\"Nekrasovka\",\"Silino\",\"Poselenie Vnukovskoe\",\"Ajeroport\",\"Arbat\",\"Poselenie Voskresenskoe\",\"Danilovskoe\",\"Horoshevskoe\",\"Dorogomilovo\",\"Severnoe\",\"Novokosino\",\"Jasenevo\",\"Poselenie Kokoshkino\",\"Lianozovo\",\"Novo-Peredelkino\",\"Juzhnoportovoe\",\"Meshhanskoe\",\"Strogino\",\"Taganskoe\",\"Shhukino\",\"Juzhnoe Butovo\",\"Pokrovskoe Streshnevo\",\"Severnoe Butovo\",\"Poselenie Voronovskoe\",\"Mar'ino\",\"Nagornoe\",\"Teplyj Stan\",\"Zapadnoe Degunino\",\"Savelki\",\"Kosino-Uhtomskoe\",\"Ochakovo-Matveevskoe\",\"Horoshevo-Mnevniki\",\"Kon'kovo\",\"Fili Davydkovo\",\"Butyrskoe\",\"Mar'ina Roshha\",\"Staroe Krjukovo\",\"Sviblovo\",\"Solncevo\",\"Juzhnoe Medvedkovo\",\"Rostokino\",\"Zjuzino\",\"Losinoostrovskoe\",\"Juzhnoe Tushino\",\"Brateevo\",\"Orehovo-Borisovo Severnoe\",\"Moskvorech'e-Saburovo\",\"Severnoe Tushino\",\"Vyhino-Zhulebino\",\"Alekseevskoe\",\"Sokolinaja Gora\",\"Beskudnikovskoe\",\"Timirjazevskoe\",\"Nagatinskij Zaton\",\"Otradnoe\",\"Vnukovo\",\"Poselenie Shherbinka\",\"Chertanovo Central'noe\",\"Rjazanskij\",\"Chertanovo Juzhnoe\",\"Mozhajskoe\",\"Cheremushki\",\"Matushkino\",\"Bibirevo\",\"Babushkinskoe\",\"Vostochnoe Degunino\",\"Savelovskoe\",\"Poselenie Mosrentgen\",\"Poselenie Novofedorovskoe\",\"Nagatino-Sadovniki\",\"Tekstil'shhiki\",\"Severnoe Medvedkovo\",\"Marfino\",\"Poselenie Desjonovskoe\",\"Jaroslavskoe\",\"Orehovo-Borisovo Juzhnoe\",\"Ostankinskoe\",\"Lefortovo\",\"Ivanovskoe\",\"Chertanovo Severnoe\",\"Poselenie Mihajlovo-Jarcevskoe\",\"Zjablikovo\",\"Ljublino\",\"Koptevo\",\"Kapotnja\",\"Bogorodskoe\",\"Altuf'evskoe\",\"Poselenie Filimonkovskoe\",\"Nizhegorodskoe\",\"Gol'janovo\",\"Golovinskoe\",\"Perovo\",\"Veshnjaki\",\"Kotlovka\",\"Birjulevo Zapadnoe\",\"Dmitrovskoe\",\"Poselenie Marushkinskoe\",\"Kuz'minki\",\"Preobrazhenskoe\",\"Pechatniki\",\"Novogireevo\",\"Poselenie Klenovskoe\",\"Metrogorodok\",\"Severnoe Izmajlovo\",\"Caricyno\",\"Vostochnoe Izmajlovo\",\"Vostochnoe\"],\"xaxis\":\"x\",\"y\":[137.83870967741936,99.51612903225806,86.19459459459459,84.82394366197182,74.5079365079365,74.0,70.74074074074075,69.55555555555556,68.0,67.70886075949367,67.36567164179104,67.26470588235294,66.96,66.22330097087378,65.87966804979253,65.04761904761905,65.0,64.16455696202532,64.14814814814815,63.16,62.10526315789474,61.473333333333336,61.16326530612245,60.81885125184094,60.666666666666664,60.52671755725191,60.02962962962963,59.8141592920354,59.4,59.385185185185186,58.945945945945944,58.677725118483416,58.657303370786515,58.052123552123554,57.81521739130435,57.7286036036036,57.36486486486486,57.06666666666667,56.766666666666666,56.72936064556176,56.69,56.65597667638484,56.235772357723576,56.2,56.11921458625526,56.0,56.0,55.982142857142854,55.432432432432435,55.431654676258994,55.40506329113924,55.4,55.26190476190476,55.033557046979865,55.023809523809526,54.96808510638298,54.83056478405316,54.74566473988439,54.63225806451613,54.50110864745011,54.25,53.71978021978022,53.714285714285715,53.69488188976378,53.459016393442624,53.27878787878788,53.0609756097561,52.82857142857143,52.78902953586498,52.43921568627451,52.41984732824427,52.163636363636364,52.12408759124087,51.445544554455445,51.422413793103445,51.380434782608695,51.37404580152672,51.26603325415677,51.25174825174825,51.21875,51.15830115830116,51.03389830508475,50.94857142857143,50.934065934065934,50.86893203883495,50.86868686868687,50.705673758865245,50.54545454545455,50.45,50.319148936170215,50.28915662650602,50.22077922077922,50.15902140672783,50.155807365439095,50.0,49.88939051918736,49.77040816326531,49.76111111111111,49.747252747252745,49.629441624365484,49.62658227848101,49.612612612612615,49.57826086956522,49.520325203252035,49.3728813559322,49.31764705882353,49.31578947368421,49.21621621621622,49.10126582278481,49.02013422818792,49.0,48.917647058823526,48.70165745856354,48.63636363636363,48.62019230769231,48.50632911392405,48.46218487394958,48.25888324873097,48.195,48.0,47.99212598425197,47.754208754208754,47.57971014492754,47.183673469387756,46.99016393442623,46.455882352941174,46.185483870967744,45.896103896103895,45.833898305084745,45.732142857142854,45.59514170040486,45.586854460093896,45.34013605442177,45.08695652173913,44.47701149425287,44.333333333333336,43.78181818181818,43.69078947368421,43.671875,43.25373134328358,43.0,42.86206896551724,42.736196319018404,41.231818181818184,41.077922077922075,40.142857142857146],\"yaxis\":\"y\",\"type\":\"bar\"}],                        {\"template\":{\"data\":{\"histogram2dcontour\":[{\"type\":\"histogram2dcontour\",\"colorbar\":{\"outlinewidth\":0,\"ticks\":\"\"},\"colorscale\":[[0.0,\"#0d0887\"],[0.1111111111111111,\"#46039f\"],[0.2222222222222222,\"#7201a8\"],[0.3333333333333333,\"#9c179e\"],[0.4444444444444444,\"#bd3786\"],[0.5555555555555556,\"#d8576b\"],[0.6666666666666666,\"#ed7953\"],[0.7777777777777778,\"#fb9f3a\"],[0.8888888888888888,\"#fdca26\"],[1.0,\"#f0f921\"]]}],\"choropleth\":[{\"type\":\"choropleth\",\"colorbar\":{\"outlinewidth\":0,\"ticks\":\"\"}}],\"histogram2d\":[{\"type\":\"histogram2d\",\"colorbar\":{\"outlinewidth\":0,\"ticks\":\"\"},\"colorscale\":[[0.0,\"#0d0887\"],[0.1111111111111111,\"#46039f\"],[0.2222222222222222,\"#7201a8\"],[0.3333333333333333,\"#9c179e\"],[0.4444444444444444,\"#bd3786\"],[0.5555555555555556,\"#d8576b\"],[0.6666666666666666,\"#ed7953\"],[0.7777777777777778,\"#fb9f3a\"],[0.8888888888888888,\"#fdca26\"],[1.0,\"#f0f921\"]]}],\"heatmap\":[{\"type\":\"heatmap\",\"colorbar\":{\"outlinewidth\":0,\"ticks\":\"\"},\"colorscale\":[[0.0,\"#0d0887\"],[0.1111111111111111,\"#46039f\"],[0.2222222222222222,\"#7201a8\"],[0.3333333333333333,\"#9c179e\"],[0.4444444444444444,\"#bd3786\"],[0.5555555555555556,\"#d8576b\"],[0.6666666666666666,\"#ed7953\"],[0.7777777777777778,\"#fb9f3a\"],[0.8888888888888888,\"#fdca26\"],[1.0,\"#f0f921\"]]}],\"heatmapgl\":[{\"type\":\"heatmapgl\",\"colorbar\":{\"outlinewidth\":0,\"ticks\":\"\"},\"colorscale\":[[0.0,\"#0d0887\"],[0.1111111111111111,\"#46039f\"],[0.2222222222222222,\"#7201a8\"],[0.3333333333333333,\"#9c179e\"],[0.4444444444444444,\"#bd3786\"],[0.5555555555555556,\"#d8576b\"],[0.6666666666666666,\"#ed7953\"],[0.7777777777777778,\"#fb9f3a\"],[0.8888888888888888,\"#fdca26\"],[1.0,\"#f0f921\"]]}],\"contourcarpet\":[{\"type\":\"contourcarpet\",\"colorbar\":{\"outlinewidth\":0,\"ticks\":\"\"}}],\"contour\":[{\"type\":\"contour\",\"colorbar\":{\"outlinewidth\":0,\"ticks\":\"\"},\"colorscale\":[[0.0,\"#0d0887\"],[0.1111111111111111,\"#46039f\"],[0.2222222222222222,\"#7201a8\"],[0.3333333333333333,\"#9c179e\"],[0.4444444444444444,\"#bd3786\"],[0.5555555555555556,\"#d8576b\"],[0.6666666666666666,\"#ed7953\"],[0.7777777777777778,\"#fb9f3a\"],[0.8888888888888888,\"#fdca26\"],[1.0,\"#f0f921\"]]}],\"surface\":[{\"type\":\"surface\",\"colorbar\":{\"outlinewidth\":0,\"ticks\":\"\"},\"colorscale\":[[0.0,\"#0d0887\"],[0.1111111111111111,\"#46039f\"],[0.2222222222222222,\"#7201a8\"],[0.3333333333333333,\"#9c179e\"],[0.4444444444444444,\"#bd3786\"],[0.5555555555555556,\"#d8576b\"],[0.6666666666666666,\"#ed7953\"],[0.7777777777777778,\"#fb9f3a\"],[0.8888888888888888,\"#fdca26\"],[1.0,\"#f0f921\"]]}],\"mesh3d\":[{\"type\":\"mesh3d\",\"colorbar\":{\"outlinewidth\":0,\"ticks\":\"\"}}],\"scatter\":[{\"fillpattern\":{\"fillmode\":\"overlay\",\"size\":10,\"solidity\":0.2},\"type\":\"scatter\"}],\"parcoords\":[{\"type\":\"parcoords\",\"line\":{\"colorbar\":{\"outlinewidth\":0,\"ticks\":\"\"}}}],\"scatterpolargl\":[{\"type\":\"scatterpolargl\",\"marker\":{\"colorbar\":{\"outlinewidth\":0,\"ticks\":\"\"}}}],\"bar\":[{\"error_x\":{\"color\":\"#2a3f5f\"},\"error_y\":{\"color\":\"#2a3f5f\"},\"marker\":{\"line\":{\"color\":\"#E5ECF6\",\"width\":0.5},\"pattern\":{\"fillmode\":\"overlay\",\"size\":10,\"solidity\":0.2}},\"type\":\"bar\"}],\"scattergeo\":[{\"type\":\"scattergeo\",\"marker\":{\"colorbar\":{\"outlinewidth\":0,\"ticks\":\"\"}}}],\"scatterpolar\":[{\"type\":\"scatterpolar\",\"marker\":{\"colorbar\":{\"outlinewidth\":0,\"ticks\":\"\"}}}],\"histogram\":[{\"marker\":{\"pattern\":{\"fillmode\":\"overlay\",\"size\":10,\"solidity\":0.2}},\"type\":\"histogram\"}],\"scattergl\":[{\"type\":\"scattergl\",\"marker\":{\"colorbar\":{\"outlinewidth\":0,\"ticks\":\"\"}}}],\"scatter3d\":[{\"type\":\"scatter3d\",\"line\":{\"colorbar\":{\"outlinewidth\":0,\"ticks\":\"\"}},\"marker\":{\"colorbar\":{\"outlinewidth\":0,\"ticks\":\"\"}}}],\"scattermapbox\":[{\"type\":\"scattermapbox\",\"marker\":{\"colorbar\":{\"outlinewidth\":0,\"ticks\":\"\"}}}],\"scatterternary\":[{\"type\":\"scatterternary\",\"marker\":{\"colorbar\":{\"outlinewidth\":0,\"ticks\":\"\"}}}],\"scattercarpet\":[{\"type\":\"scattercarpet\",\"marker\":{\"colorbar\":{\"outlinewidth\":0,\"ticks\":\"\"}}}],\"carpet\":[{\"aaxis\":{\"endlinecolor\":\"#2a3f5f\",\"gridcolor\":\"white\",\"linecolor\":\"white\",\"minorgridcolor\":\"white\",\"startlinecolor\":\"#2a3f5f\"},\"baxis\":{\"endlinecolor\":\"#2a3f5f\",\"gridcolor\":\"white\",\"linecolor\":\"white\",\"minorgridcolor\":\"white\",\"startlinecolor\":\"#2a3f5f\"},\"type\":\"carpet\"}],\"table\":[{\"cells\":{\"fill\":{\"color\":\"#EBF0F8\"},\"line\":{\"color\":\"white\"}},\"header\":{\"fill\":{\"color\":\"#C8D4E3\"},\"line\":{\"color\":\"white\"}},\"type\":\"table\"}],\"barpolar\":[{\"marker\":{\"line\":{\"color\":\"#E5ECF6\",\"width\":0.5},\"pattern\":{\"fillmode\":\"overlay\",\"size\":10,\"solidity\":0.2}},\"type\":\"barpolar\"}],\"pie\":[{\"automargin\":true,\"type\":\"pie\"}]},\"layout\":{\"autotypenumbers\":\"strict\",\"colorway\":[\"#636efa\",\"#EF553B\",\"#00cc96\",\"#ab63fa\",\"#FFA15A\",\"#19d3f3\",\"#FF6692\",\"#B6E880\",\"#FF97FF\",\"#FECB52\"],\"font\":{\"color\":\"#2a3f5f\"},\"hovermode\":\"closest\",\"hoverlabel\":{\"align\":\"left\"},\"paper_bgcolor\":\"white\",\"plot_bgcolor\":\"#E5ECF6\",\"polar\":{\"bgcolor\":\"#E5ECF6\",\"angularaxis\":{\"gridcolor\":\"white\",\"linecolor\":\"white\",\"ticks\":\"\"},\"radialaxis\":{\"gridcolor\":\"white\",\"linecolor\":\"white\",\"ticks\":\"\"}},\"ternary\":{\"bgcolor\":\"#E5ECF6\",\"aaxis\":{\"gridcolor\":\"white\",\"linecolor\":\"white\",\"ticks\":\"\"},\"baxis\":{\"gridcolor\":\"white\",\"linecolor\":\"white\",\"ticks\":\"\"},\"caxis\":{\"gridcolor\":\"white\",\"linecolor\":\"white\",\"ticks\":\"\"}},\"coloraxis\":{\"colorbar\":{\"outlinewidth\":0,\"ticks\":\"\"}},\"colorscale\":{\"sequential\":[[0.0,\"#0d0887\"],[0.1111111111111111,\"#46039f\"],[0.2222222222222222,\"#7201a8\"],[0.3333333333333333,\"#9c179e\"],[0.4444444444444444,\"#bd3786\"],[0.5555555555555556,\"#d8576b\"],[0.6666666666666666,\"#ed7953\"],[0.7777777777777778,\"#fb9f3a\"],[0.8888888888888888,\"#fdca26\"],[1.0,\"#f0f921\"]],\"sequentialminus\":[[0.0,\"#0d0887\"],[0.1111111111111111,\"#46039f\"],[0.2222222222222222,\"#7201a8\"],[0.3333333333333333,\"#9c179e\"],[0.4444444444444444,\"#bd3786\"],[0.5555555555555556,\"#d8576b\"],[0.6666666666666666,\"#ed7953\"],[0.7777777777777778,\"#fb9f3a\"],[0.8888888888888888,\"#fdca26\"],[1.0,\"#f0f921\"]],\"diverging\":[[0,\"#8e0152\"],[0.1,\"#c51b7d\"],[0.2,\"#de77ae\"],[0.3,\"#f1b6da\"],[0.4,\"#fde0ef\"],[0.5,\"#f7f7f7\"],[0.6,\"#e6f5d0\"],[0.7,\"#b8e186\"],[0.8,\"#7fbc41\"],[0.9,\"#4d9221\"],[1,\"#276419\"]]},\"xaxis\":{\"gridcolor\":\"white\",\"linecolor\":\"white\",\"ticks\":\"\",\"title\":{\"standoff\":15},\"zerolinecolor\":\"white\",\"automargin\":true,\"zerolinewidth\":2},\"yaxis\":{\"gridcolor\":\"white\",\"linecolor\":\"white\",\"ticks\":\"\",\"title\":{\"standoff\":15},\"zerolinecolor\":\"white\",\"automargin\":true,\"zerolinewidth\":2},\"scene\":{\"xaxis\":{\"backgroundcolor\":\"#E5ECF6\",\"gridcolor\":\"white\",\"linecolor\":\"white\",\"showbackground\":true,\"ticks\":\"\",\"zerolinecolor\":\"white\",\"gridwidth\":2},\"yaxis\":{\"backgroundcolor\":\"#E5ECF6\",\"gridcolor\":\"white\",\"linecolor\":\"white\",\"showbackground\":true,\"ticks\":\"\",\"zerolinecolor\":\"white\",\"gridwidth\":2},\"zaxis\":{\"backgroundcolor\":\"#E5ECF6\",\"gridcolor\":\"white\",\"linecolor\":\"white\",\"showbackground\":true,\"ticks\":\"\",\"zerolinecolor\":\"white\",\"gridwidth\":2}},\"shapedefaults\":{\"line\":{\"color\":\"#2a3f5f\"}},\"annotationdefaults\":{\"arrowcolor\":\"#2a3f5f\",\"arrowhead\":0,\"arrowwidth\":1},\"geo\":{\"bgcolor\":\"white\",\"landcolor\":\"#E5ECF6\",\"subunitcolor\":\"white\",\"showland\":true,\"showlakes\":true,\"lakecolor\":\"white\"},\"title\":{\"x\":0.05},\"mapbox\":{\"style\":\"light\"}}},\"xaxis\":{\"anchor\":\"y\",\"domain\":[0.0,1.0],\"title\":{\"text\":\"Район\"},\"showticklabels\":false},\"yaxis\":{\"anchor\":\"x\",\"domain\":[0.0,1.0],\"title\":{\"text\":\"Средняя полная площадь (кв.м.)\"}},\"legend\":{\"tracegroupgap\":0},\"title\":{\"text\":\"Средняя площадь квартир по районам\"},\"barmode\":\"relative\",\"height\":600},                        {\"responsive\": true}                    ).then(function(){\n",
              "                            \n",
              "var gd = document.getElementById('9cc6638c-aeb6-496e-ab39-4cf4b44ebf16');\n",
              "var x = new MutationObserver(function (mutations, observer) {{\n",
              "        var display = window.getComputedStyle(gd).display;\n",
              "        if (!display || display === 'none') {{\n",
              "            console.log([gd, 'removed!']);\n",
              "            Plotly.purge(gd);\n",
              "            observer.disconnect();\n",
              "        }}\n",
              "}});\n",
              "\n",
              "// Listen for the removal of the full notebook cells\n",
              "var notebookContainer = gd.closest('#notebook-container');\n",
              "if (notebookContainer) {{\n",
              "    x.observe(notebookContainer, {childList: true});\n",
              "}}\n",
              "\n",
              "// Listen for the clearing of the current output cell\n",
              "var outputEl = gd.closest('.output');\n",
              "if (outputEl) {{\n",
              "    x.observe(outputEl, {childList: true});\n",
              "}}\n",
              "\n",
              "                        })                };                            </script>        </div>\n",
              "</body>\n",
              "</html>"
            ]
          },
          "metadata": {}
        }
      ],
      "source": [
        "avg_sq_by_area = df.groupby('sub_area')['full_sq'].mean().reset_index()\n",
        "avg_sq_by_area = avg_sq_by_area.sort_values(by='full_sq', ascending=False)\n",
        "fig = px.bar(\n",
        "    avg_sq_by_area,\n",
        "    x='sub_area',\n",
        "    y='full_sq',\n",
        "    title='Средняя площадь квартир по районам',\n",
        "    labels={\n",
        "        'sub_area': 'Район',\n",
        "        'full_sq': 'Средняя полная площадь (кв.м.)'\n",
        "    },\n",
        "    height=600\n",
        ")\n",
        "\n",
        "fig.update_xaxes(showticklabels=False)\n",
        "fig.update_traces(hovertemplate='Район: %{x}<br>Средняя площадь: %{y:.2f} кв.м.')\n",
        "fig.show()"
      ]
    },
    {
      "cell_type": "markdown",
      "id": "16afdeec-8c90-4ed1-a599-e0b1343bbf5c",
      "metadata": {
        "id": "16afdeec-8c90-4ed1-a599-e0b1343bbf5c"
      },
      "source": [
        "7. Постройте график изменения медианной цены на квартиру менее 50 кв. метров за период с 2011 до 2014 года*\n",
        "\n",
        "\\* Задание на доп. балл"
      ]
    },
    {
      "cell_type": "code",
      "execution_count": 76,
      "id": "e10d0cc7-a1ca-4204-a875-b1660e44618d",
      "metadata": {
        "colab": {
          "base_uri": "https://localhost:8080/",
          "height": 542
        },
        "id": "e10d0cc7-a1ca-4204-a875-b1660e44618d",
        "outputId": "77d4b42d-fd26-4d44-8483-78eae60beb16"
      },
      "outputs": [
        {
          "output_type": "display_data",
          "data": {
            "text/html": [
              "<html>\n",
              "<head><meta charset=\"utf-8\" /></head>\n",
              "<body>\n",
              "    <div>            <script src=\"https://cdnjs.cloudflare.com/ajax/libs/mathjax/2.7.5/MathJax.js?config=TeX-AMS-MML_SVG\"></script><script type=\"text/javascript\">if (window.MathJax && window.MathJax.Hub && window.MathJax.Hub.Config) {window.MathJax.Hub.Config({SVG: {font: \"STIX-Web\"}});}</script>                <script type=\"text/javascript\">window.PlotlyConfig = {MathJaxConfig: 'local'};</script>\n",
              "        <script charset=\"utf-8\" src=\"https://cdn.plot.ly/plotly-2.35.2.min.js\"></script>                <div id=\"628e37c5-2932-4ead-920e-fa26a729084d\" class=\"plotly-graph-div\" style=\"height:525px; width:100%;\"></div>            <script type=\"text/javascript\">                                    window.PLOTLYENV=window.PLOTLYENV || {};                                    if (document.getElementById(\"628e37c5-2932-4ead-920e-fa26a729084d\")) {                    Plotly.newPlot(                        \"628e37c5-2932-4ead-920e-fa26a729084d\",                        [{\"hovertemplate\":\"Дата: %{x|%Y-%m}\\u003cbr\\u003eМедианная цена: %{y:,.0f}\",\"legendgroup\":\"\",\"line\":{\"color\":\"#636efa\",\"dash\":\"solid\"},\"marker\":{\"symbol\":\"circle\"},\"mode\":\"lines+markers\",\"name\":\"\",\"orientation\":\"v\",\"showlegend\":false,\"x\":[\"2011-08-31T00:00:00\",\"2011-09-30T00:00:00\",\"2011-10-31T00:00:00\",\"2011-11-30T00:00:00\",\"2011-12-31T00:00:00\",\"2012-01-31T00:00:00\",\"2012-02-29T00:00:00\",\"2012-03-31T00:00:00\",\"2012-04-30T00:00:00\",\"2012-05-31T00:00:00\",\"2012-06-30T00:00:00\",\"2012-07-31T00:00:00\",\"2012-08-31T00:00:00\",\"2012-09-30T00:00:00\",\"2012-10-31T00:00:00\",\"2012-11-30T00:00:00\",\"2012-12-31T00:00:00\",\"2013-01-31T00:00:00\",\"2013-02-28T00:00:00\",\"2013-03-31T00:00:00\",\"2013-04-30T00:00:00\",\"2013-05-31T00:00:00\",\"2013-06-30T00:00:00\",\"2013-07-31T00:00:00\",\"2013-08-31T00:00:00\",\"2013-09-30T00:00:00\",\"2013-10-31T00:00:00\",\"2013-11-30T00:00:00\",\"2013-12-31T00:00:00\",\"2014-01-31T00:00:00\",\"2014-02-28T00:00:00\",\"2014-03-31T00:00:00\",\"2014-04-30T00:00:00\",\"2014-05-31T00:00:00\",\"2014-06-30T00:00:00\",\"2014-07-31T00:00:00\",\"2014-08-31T00:00:00\",\"2014-09-30T00:00:00\",\"2014-10-31T00:00:00\",\"2014-11-30T00:00:00\",\"2014-12-31T00:00:00\"],\"xaxis\":\"x\",\"y\":[5850000.0,5050000.0,5098000.0,5300000.0,4995000.0,5500000.0,5250000.0,5800000.0,5500000.0,5500000.0,5700000.0,5500000.0,4975000.0,4700000.0,4025500.0,4126041.0,4015800.0,5000000.0,5000000.0,5000000.0,4904827.0,4501100.0,5325000.0,5300000.0,4900000.0,5000000.0,5400000.0,5500000.0,5550000.0,5428800.0,5600000.0,5600000.0,5650000.0,5600000.0,5577553.0,5780000.0,5800000.0,5724475.0,5400000.0,5600000.0,6000000.0],\"yaxis\":\"y\",\"type\":\"scatter\"}],                        {\"template\":{\"data\":{\"histogram2dcontour\":[{\"type\":\"histogram2dcontour\",\"colorbar\":{\"outlinewidth\":0,\"ticks\":\"\"},\"colorscale\":[[0.0,\"#0d0887\"],[0.1111111111111111,\"#46039f\"],[0.2222222222222222,\"#7201a8\"],[0.3333333333333333,\"#9c179e\"],[0.4444444444444444,\"#bd3786\"],[0.5555555555555556,\"#d8576b\"],[0.6666666666666666,\"#ed7953\"],[0.7777777777777778,\"#fb9f3a\"],[0.8888888888888888,\"#fdca26\"],[1.0,\"#f0f921\"]]}],\"choropleth\":[{\"type\":\"choropleth\",\"colorbar\":{\"outlinewidth\":0,\"ticks\":\"\"}}],\"histogram2d\":[{\"type\":\"histogram2d\",\"colorbar\":{\"outlinewidth\":0,\"ticks\":\"\"},\"colorscale\":[[0.0,\"#0d0887\"],[0.1111111111111111,\"#46039f\"],[0.2222222222222222,\"#7201a8\"],[0.3333333333333333,\"#9c179e\"],[0.4444444444444444,\"#bd3786\"],[0.5555555555555556,\"#d8576b\"],[0.6666666666666666,\"#ed7953\"],[0.7777777777777778,\"#fb9f3a\"],[0.8888888888888888,\"#fdca26\"],[1.0,\"#f0f921\"]]}],\"heatmap\":[{\"type\":\"heatmap\",\"colorbar\":{\"outlinewidth\":0,\"ticks\":\"\"},\"colorscale\":[[0.0,\"#0d0887\"],[0.1111111111111111,\"#46039f\"],[0.2222222222222222,\"#7201a8\"],[0.3333333333333333,\"#9c179e\"],[0.4444444444444444,\"#bd3786\"],[0.5555555555555556,\"#d8576b\"],[0.6666666666666666,\"#ed7953\"],[0.7777777777777778,\"#fb9f3a\"],[0.8888888888888888,\"#fdca26\"],[1.0,\"#f0f921\"]]}],\"heatmapgl\":[{\"type\":\"heatmapgl\",\"colorbar\":{\"outlinewidth\":0,\"ticks\":\"\"},\"colorscale\":[[0.0,\"#0d0887\"],[0.1111111111111111,\"#46039f\"],[0.2222222222222222,\"#7201a8\"],[0.3333333333333333,\"#9c179e\"],[0.4444444444444444,\"#bd3786\"],[0.5555555555555556,\"#d8576b\"],[0.6666666666666666,\"#ed7953\"],[0.7777777777777778,\"#fb9f3a\"],[0.8888888888888888,\"#fdca26\"],[1.0,\"#f0f921\"]]}],\"contourcarpet\":[{\"type\":\"contourcarpet\",\"colorbar\":{\"outlinewidth\":0,\"ticks\":\"\"}}],\"contour\":[{\"type\":\"contour\",\"colorbar\":{\"outlinewidth\":0,\"ticks\":\"\"},\"colorscale\":[[0.0,\"#0d0887\"],[0.1111111111111111,\"#46039f\"],[0.2222222222222222,\"#7201a8\"],[0.3333333333333333,\"#9c179e\"],[0.4444444444444444,\"#bd3786\"],[0.5555555555555556,\"#d8576b\"],[0.6666666666666666,\"#ed7953\"],[0.7777777777777778,\"#fb9f3a\"],[0.8888888888888888,\"#fdca26\"],[1.0,\"#f0f921\"]]}],\"surface\":[{\"type\":\"surface\",\"colorbar\":{\"outlinewidth\":0,\"ticks\":\"\"},\"colorscale\":[[0.0,\"#0d0887\"],[0.1111111111111111,\"#46039f\"],[0.2222222222222222,\"#7201a8\"],[0.3333333333333333,\"#9c179e\"],[0.4444444444444444,\"#bd3786\"],[0.5555555555555556,\"#d8576b\"],[0.6666666666666666,\"#ed7953\"],[0.7777777777777778,\"#fb9f3a\"],[0.8888888888888888,\"#fdca26\"],[1.0,\"#f0f921\"]]}],\"mesh3d\":[{\"type\":\"mesh3d\",\"colorbar\":{\"outlinewidth\":0,\"ticks\":\"\"}}],\"scatter\":[{\"fillpattern\":{\"fillmode\":\"overlay\",\"size\":10,\"solidity\":0.2},\"type\":\"scatter\"}],\"parcoords\":[{\"type\":\"parcoords\",\"line\":{\"colorbar\":{\"outlinewidth\":0,\"ticks\":\"\"}}}],\"scatterpolargl\":[{\"type\":\"scatterpolargl\",\"marker\":{\"colorbar\":{\"outlinewidth\":0,\"ticks\":\"\"}}}],\"bar\":[{\"error_x\":{\"color\":\"#2a3f5f\"},\"error_y\":{\"color\":\"#2a3f5f\"},\"marker\":{\"line\":{\"color\":\"#E5ECF6\",\"width\":0.5},\"pattern\":{\"fillmode\":\"overlay\",\"size\":10,\"solidity\":0.2}},\"type\":\"bar\"}],\"scattergeo\":[{\"type\":\"scattergeo\",\"marker\":{\"colorbar\":{\"outlinewidth\":0,\"ticks\":\"\"}}}],\"scatterpolar\":[{\"type\":\"scatterpolar\",\"marker\":{\"colorbar\":{\"outlinewidth\":0,\"ticks\":\"\"}}}],\"histogram\":[{\"marker\":{\"pattern\":{\"fillmode\":\"overlay\",\"size\":10,\"solidity\":0.2}},\"type\":\"histogram\"}],\"scattergl\":[{\"type\":\"scattergl\",\"marker\":{\"colorbar\":{\"outlinewidth\":0,\"ticks\":\"\"}}}],\"scatter3d\":[{\"type\":\"scatter3d\",\"line\":{\"colorbar\":{\"outlinewidth\":0,\"ticks\":\"\"}},\"marker\":{\"colorbar\":{\"outlinewidth\":0,\"ticks\":\"\"}}}],\"scattermapbox\":[{\"type\":\"scattermapbox\",\"marker\":{\"colorbar\":{\"outlinewidth\":0,\"ticks\":\"\"}}}],\"scatterternary\":[{\"type\":\"scatterternary\",\"marker\":{\"colorbar\":{\"outlinewidth\":0,\"ticks\":\"\"}}}],\"scattercarpet\":[{\"type\":\"scattercarpet\",\"marker\":{\"colorbar\":{\"outlinewidth\":0,\"ticks\":\"\"}}}],\"carpet\":[{\"aaxis\":{\"endlinecolor\":\"#2a3f5f\",\"gridcolor\":\"white\",\"linecolor\":\"white\",\"minorgridcolor\":\"white\",\"startlinecolor\":\"#2a3f5f\"},\"baxis\":{\"endlinecolor\":\"#2a3f5f\",\"gridcolor\":\"white\",\"linecolor\":\"white\",\"minorgridcolor\":\"white\",\"startlinecolor\":\"#2a3f5f\"},\"type\":\"carpet\"}],\"table\":[{\"cells\":{\"fill\":{\"color\":\"#EBF0F8\"},\"line\":{\"color\":\"white\"}},\"header\":{\"fill\":{\"color\":\"#C8D4E3\"},\"line\":{\"color\":\"white\"}},\"type\":\"table\"}],\"barpolar\":[{\"marker\":{\"line\":{\"color\":\"#E5ECF6\",\"width\":0.5},\"pattern\":{\"fillmode\":\"overlay\",\"size\":10,\"solidity\":0.2}},\"type\":\"barpolar\"}],\"pie\":[{\"automargin\":true,\"type\":\"pie\"}]},\"layout\":{\"autotypenumbers\":\"strict\",\"colorway\":[\"#636efa\",\"#EF553B\",\"#00cc96\",\"#ab63fa\",\"#FFA15A\",\"#19d3f3\",\"#FF6692\",\"#B6E880\",\"#FF97FF\",\"#FECB52\"],\"font\":{\"color\":\"#2a3f5f\"},\"hovermode\":\"closest\",\"hoverlabel\":{\"align\":\"left\"},\"paper_bgcolor\":\"white\",\"plot_bgcolor\":\"#E5ECF6\",\"polar\":{\"bgcolor\":\"#E5ECF6\",\"angularaxis\":{\"gridcolor\":\"white\",\"linecolor\":\"white\",\"ticks\":\"\"},\"radialaxis\":{\"gridcolor\":\"white\",\"linecolor\":\"white\",\"ticks\":\"\"}},\"ternary\":{\"bgcolor\":\"#E5ECF6\",\"aaxis\":{\"gridcolor\":\"white\",\"linecolor\":\"white\",\"ticks\":\"\"},\"baxis\":{\"gridcolor\":\"white\",\"linecolor\":\"white\",\"ticks\":\"\"},\"caxis\":{\"gridcolor\":\"white\",\"linecolor\":\"white\",\"ticks\":\"\"}},\"coloraxis\":{\"colorbar\":{\"outlinewidth\":0,\"ticks\":\"\"}},\"colorscale\":{\"sequential\":[[0.0,\"#0d0887\"],[0.1111111111111111,\"#46039f\"],[0.2222222222222222,\"#7201a8\"],[0.3333333333333333,\"#9c179e\"],[0.4444444444444444,\"#bd3786\"],[0.5555555555555556,\"#d8576b\"],[0.6666666666666666,\"#ed7953\"],[0.7777777777777778,\"#fb9f3a\"],[0.8888888888888888,\"#fdca26\"],[1.0,\"#f0f921\"]],\"sequentialminus\":[[0.0,\"#0d0887\"],[0.1111111111111111,\"#46039f\"],[0.2222222222222222,\"#7201a8\"],[0.3333333333333333,\"#9c179e\"],[0.4444444444444444,\"#bd3786\"],[0.5555555555555556,\"#d8576b\"],[0.6666666666666666,\"#ed7953\"],[0.7777777777777778,\"#fb9f3a\"],[0.8888888888888888,\"#fdca26\"],[1.0,\"#f0f921\"]],\"diverging\":[[0,\"#8e0152\"],[0.1,\"#c51b7d\"],[0.2,\"#de77ae\"],[0.3,\"#f1b6da\"],[0.4,\"#fde0ef\"],[0.5,\"#f7f7f7\"],[0.6,\"#e6f5d0\"],[0.7,\"#b8e186\"],[0.8,\"#7fbc41\"],[0.9,\"#4d9221\"],[1,\"#276419\"]]},\"xaxis\":{\"gridcolor\":\"white\",\"linecolor\":\"white\",\"ticks\":\"\",\"title\":{\"standoff\":15},\"zerolinecolor\":\"white\",\"automargin\":true,\"zerolinewidth\":2},\"yaxis\":{\"gridcolor\":\"white\",\"linecolor\":\"white\",\"ticks\":\"\",\"title\":{\"standoff\":15},\"zerolinecolor\":\"white\",\"automargin\":true,\"zerolinewidth\":2},\"scene\":{\"xaxis\":{\"backgroundcolor\":\"#E5ECF6\",\"gridcolor\":\"white\",\"linecolor\":\"white\",\"showbackground\":true,\"ticks\":\"\",\"zerolinecolor\":\"white\",\"gridwidth\":2},\"yaxis\":{\"backgroundcolor\":\"#E5ECF6\",\"gridcolor\":\"white\",\"linecolor\":\"white\",\"showbackground\":true,\"ticks\":\"\",\"zerolinecolor\":\"white\",\"gridwidth\":2},\"zaxis\":{\"backgroundcolor\":\"#E5ECF6\",\"gridcolor\":\"white\",\"linecolor\":\"white\",\"showbackground\":true,\"ticks\":\"\",\"zerolinecolor\":\"white\",\"gridwidth\":2}},\"shapedefaults\":{\"line\":{\"color\":\"#2a3f5f\"}},\"annotationdefaults\":{\"arrowcolor\":\"#2a3f5f\",\"arrowhead\":0,\"arrowwidth\":1},\"geo\":{\"bgcolor\":\"white\",\"landcolor\":\"#E5ECF6\",\"subunitcolor\":\"white\",\"showland\":true,\"showlakes\":true,\"lakecolor\":\"white\"},\"title\":{\"x\":0.05},\"mapbox\":{\"style\":\"light\"}}},\"xaxis\":{\"anchor\":\"y\",\"domain\":[0.0,1.0],\"title\":{\"text\":\"Дата\"}},\"yaxis\":{\"anchor\":\"x\",\"domain\":[0.0,1.0],\"title\":{\"text\":\"Медианная цена\"}},\"legend\":{\"tracegroupgap\":0},\"title\":{\"text\":\"Динамика медианной цены на квартиры \\u003c 50 кв.м. (2011-2014 гг.)\"}},                        {\"responsive\": true}                    ).then(function(){\n",
              "                            \n",
              "var gd = document.getElementById('628e37c5-2932-4ead-920e-fa26a729084d');\n",
              "var x = new MutationObserver(function (mutations, observer) {{\n",
              "        var display = window.getComputedStyle(gd).display;\n",
              "        if (!display || display === 'none') {{\n",
              "            console.log([gd, 'removed!']);\n",
              "            Plotly.purge(gd);\n",
              "            observer.disconnect();\n",
              "        }}\n",
              "}});\n",
              "\n",
              "// Listen for the removal of the full notebook cells\n",
              "var notebookContainer = gd.closest('#notebook-container');\n",
              "if (notebookContainer) {{\n",
              "    x.observe(notebookContainer, {childList: true});\n",
              "}}\n",
              "\n",
              "// Listen for the clearing of the current output cell\n",
              "var outputEl = gd.closest('.output');\n",
              "if (outputEl) {{\n",
              "    x.observe(outputEl, {childList: true});\n",
              "}}\n",
              "\n",
              "                        })                };                            </script>        </div>\n",
              "</body>\n",
              "</html>"
            ]
          },
          "metadata": {}
        }
      ],
      "source": [
        "df['timestamp'] = pd.to_datetime(df['timestamp'], errors='coerce')\n",
        "mask = (\n",
        "    (df['full_sq'] < 50) &\n",
        "    (df['timestamp'].dt.year >= 2011) &\n",
        "    (df['timestamp'].dt.year <= 2014)\n",
        ")\n",
        "small_apartments_df = df[mask].copy()\n",
        "monthly_median_price = small_apartments_df.groupby(pd.Grouper(key='timestamp', freq='ME'))['price_doc'].median().reset_index()\n",
        "fig = px.line(\n",
        "    monthly_median_price,\n",
        "    x='timestamp',\n",
        "    y='price_doc',\n",
        "    title='Динамика медианной цены на квартиры < 50 кв.м. (2011-2014 гг.)',\n",
        "    labels={\n",
        "        'timestamp': 'Месяц',\n",
        "        'price_doc': 'Медианная цена (в млн.)'\n",
        "    },\n",
        "    markers=True\n",
        ")\n",
        "\n",
        "\n",
        "fig.update_traces(hovertemplate='Дата: %{x|%Y-%m}<br>Медианная цена: %{y:,.0f}')\n",
        "fig.update_layout(yaxis_title='Медианная цена', xaxis_title='Дата')\n",
        "\n",
        "fig.show()\n"
      ]
    }
  ],
  "metadata": {
    "kernelspec": {
      "display_name": "Python 3 (ipykernel)",
      "language": "python",
      "name": "python3"
    },
    "language_info": {
      "codemirror_mode": {
        "name": "ipython",
        "version": 3
      },
      "file_extension": ".py",
      "mimetype": "text/x-python",
      "name": "python",
      "nbconvert_exporter": "python",
      "pygments_lexer": "ipython3",
      "version": "3.11.7"
    },
    "colab": {
      "provenance": []
    }
  },
  "nbformat": 4,
  "nbformat_minor": 5
}