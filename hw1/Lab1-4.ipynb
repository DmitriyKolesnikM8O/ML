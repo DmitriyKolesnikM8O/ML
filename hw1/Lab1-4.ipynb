{
  "cells": [
    {
      "cell_type": "markdown",
      "id": "ec6e7d18-6a6e-4a51-a7cd-0a1152604973",
      "metadata": {
        "id": "ec6e7d18-6a6e-4a51-a7cd-0a1152604973"
      },
      "source": [
        "## Лабораторная работа №1 | Вариант 4"
      ]
    },
    {
      "cell_type": "markdown",
      "id": "277877ce-f982-4711-a6a6-2a4a90871409",
      "metadata": {
        "id": "277877ce-f982-4711-a6a6-2a4a90871409"
      },
      "source": [
        "Выполнил: Колесник Дмитрий Сергеевич (М8О-313Б-23)"
      ]
    },
    {
      "cell_type": "markdown",
      "id": "031f025d-84dc-470f-b839-456a76d9636b",
      "metadata": {
        "id": "031f025d-84dc-470f-b839-456a76d9636b"
      },
      "source": [
        "### 1. Numpy"
      ]
    },
    {
      "cell_type": "code",
      "execution_count": 7,
      "id": "8a2c6f8d-e85b-4982-ba6d-77ffdb7d53e8",
      "metadata": {
        "colab": {
          "base_uri": "https://localhost:8080/",
          "height": 349
        },
        "id": "8a2c6f8d-e85b-4982-ba6d-77ffdb7d53e8",
        "outputId": "6d8b7fcf-7cf1-4220-e1e2-5c2d7c6f613e"
      },
      "outputs": [
        {
          "output_type": "stream",
          "name": "stdout",
          "text": [
            "Окружение настроено, данные загружены в переменную 'df'.\n",
            "Последние 5 строк данных:\n"
          ]
        },
        {
          "output_type": "execute_result",
          "data": {
            "text/plain": [
              "          id   timestamp  full_sq  life_sq  floor  max_floor  material  \\\n",
              "30466  30469  2015-06-30       44     27.0    7.0        9.0       1.0   \n",
              "30467  30470  2015-06-30       86     59.0    3.0        9.0       2.0   \n",
              "30468  30471  2015-06-30       45      NaN   10.0       20.0       1.0   \n",
              "30469  30472  2015-06-30       64     32.0    5.0       15.0       1.0   \n",
              "30470  30473  2015-06-30       43     28.0    1.0        9.0       1.0   \n",
              "\n",
              "       build_year  num_room  kitch_sq  state   product_type  \\\n",
              "30466      1975.0       2.0       6.0    3.0     Investment   \n",
              "30467      1935.0       4.0      10.0    3.0     Investment   \n",
              "30468         NaN       1.0       1.0    1.0  OwnerOccupier   \n",
              "30469      2003.0       2.0      11.0    2.0     Investment   \n",
              "30470      1968.0       2.0       6.0    2.0     Investment   \n",
              "\n",
              "                   sub_area  price_doc  \n",
              "30466              Otradnoe    7400000  \n",
              "30467              Tverskoe   25000000  \n",
              "30468  Poselenie Vnukovskoe    6970959  \n",
              "30469          Obruchevskoe   13500000  \n",
              "30470           Novogireevo    5600000  "
            ],
            "text/html": [
              "\n",
              "  <div id=\"df-7cb37be4-80f3-413a-a8c4-bf9a545d4713\" class=\"colab-df-container\">\n",
              "    <div>\n",
              "<style scoped>\n",
              "    .dataframe tbody tr th:only-of-type {\n",
              "        vertical-align: middle;\n",
              "    }\n",
              "\n",
              "    .dataframe tbody tr th {\n",
              "        vertical-align: top;\n",
              "    }\n",
              "\n",
              "    .dataframe thead th {\n",
              "        text-align: right;\n",
              "    }\n",
              "</style>\n",
              "<table border=\"1\" class=\"dataframe\">\n",
              "  <thead>\n",
              "    <tr style=\"text-align: right;\">\n",
              "      <th></th>\n",
              "      <th>id</th>\n",
              "      <th>timestamp</th>\n",
              "      <th>full_sq</th>\n",
              "      <th>life_sq</th>\n",
              "      <th>floor</th>\n",
              "      <th>max_floor</th>\n",
              "      <th>material</th>\n",
              "      <th>build_year</th>\n",
              "      <th>num_room</th>\n",
              "      <th>kitch_sq</th>\n",
              "      <th>state</th>\n",
              "      <th>product_type</th>\n",
              "      <th>sub_area</th>\n",
              "      <th>price_doc</th>\n",
              "    </tr>\n",
              "  </thead>\n",
              "  <tbody>\n",
              "    <tr>\n",
              "      <th>30466</th>\n",
              "      <td>30469</td>\n",
              "      <td>2015-06-30</td>\n",
              "      <td>44</td>\n",
              "      <td>27.0</td>\n",
              "      <td>7.0</td>\n",
              "      <td>9.0</td>\n",
              "      <td>1.0</td>\n",
              "      <td>1975.0</td>\n",
              "      <td>2.0</td>\n",
              "      <td>6.0</td>\n",
              "      <td>3.0</td>\n",
              "      <td>Investment</td>\n",
              "      <td>Otradnoe</td>\n",
              "      <td>7400000</td>\n",
              "    </tr>\n",
              "    <tr>\n",
              "      <th>30467</th>\n",
              "      <td>30470</td>\n",
              "      <td>2015-06-30</td>\n",
              "      <td>86</td>\n",
              "      <td>59.0</td>\n",
              "      <td>3.0</td>\n",
              "      <td>9.0</td>\n",
              "      <td>2.0</td>\n",
              "      <td>1935.0</td>\n",
              "      <td>4.0</td>\n",
              "      <td>10.0</td>\n",
              "      <td>3.0</td>\n",
              "      <td>Investment</td>\n",
              "      <td>Tverskoe</td>\n",
              "      <td>25000000</td>\n",
              "    </tr>\n",
              "    <tr>\n",
              "      <th>30468</th>\n",
              "      <td>30471</td>\n",
              "      <td>2015-06-30</td>\n",
              "      <td>45</td>\n",
              "      <td>NaN</td>\n",
              "      <td>10.0</td>\n",
              "      <td>20.0</td>\n",
              "      <td>1.0</td>\n",
              "      <td>NaN</td>\n",
              "      <td>1.0</td>\n",
              "      <td>1.0</td>\n",
              "      <td>1.0</td>\n",
              "      <td>OwnerOccupier</td>\n",
              "      <td>Poselenie Vnukovskoe</td>\n",
              "      <td>6970959</td>\n",
              "    </tr>\n",
              "    <tr>\n",
              "      <th>30469</th>\n",
              "      <td>30472</td>\n",
              "      <td>2015-06-30</td>\n",
              "      <td>64</td>\n",
              "      <td>32.0</td>\n",
              "      <td>5.0</td>\n",
              "      <td>15.0</td>\n",
              "      <td>1.0</td>\n",
              "      <td>2003.0</td>\n",
              "      <td>2.0</td>\n",
              "      <td>11.0</td>\n",
              "      <td>2.0</td>\n",
              "      <td>Investment</td>\n",
              "      <td>Obruchevskoe</td>\n",
              "      <td>13500000</td>\n",
              "    </tr>\n",
              "    <tr>\n",
              "      <th>30470</th>\n",
              "      <td>30473</td>\n",
              "      <td>2015-06-30</td>\n",
              "      <td>43</td>\n",
              "      <td>28.0</td>\n",
              "      <td>1.0</td>\n",
              "      <td>9.0</td>\n",
              "      <td>1.0</td>\n",
              "      <td>1968.0</td>\n",
              "      <td>2.0</td>\n",
              "      <td>6.0</td>\n",
              "      <td>2.0</td>\n",
              "      <td>Investment</td>\n",
              "      <td>Novogireevo</td>\n",
              "      <td>5600000</td>\n",
              "    </tr>\n",
              "  </tbody>\n",
              "</table>\n",
              "</div>\n",
              "    <div class=\"colab-df-buttons\">\n",
              "\n",
              "  <div class=\"colab-df-container\">\n",
              "    <button class=\"colab-df-convert\" onclick=\"convertToInteractive('df-7cb37be4-80f3-413a-a8c4-bf9a545d4713')\"\n",
              "            title=\"Convert this dataframe to an interactive table.\"\n",
              "            style=\"display:none;\">\n",
              "\n",
              "  <svg xmlns=\"http://www.w3.org/2000/svg\" height=\"24px\" viewBox=\"0 -960 960 960\">\n",
              "    <path d=\"M120-120v-720h720v720H120Zm60-500h600v-160H180v160Zm220 220h160v-160H400v160Zm0 220h160v-160H400v160ZM180-400h160v-160H180v160Zm440 0h160v-160H620v160ZM180-180h160v-160H180v160Zm440 0h160v-160H620v160Z\"/>\n",
              "  </svg>\n",
              "    </button>\n",
              "\n",
              "  <style>\n",
              "    .colab-df-container {\n",
              "      display:flex;\n",
              "      gap: 12px;\n",
              "    }\n",
              "\n",
              "    .colab-df-convert {\n",
              "      background-color: #E8F0FE;\n",
              "      border: none;\n",
              "      border-radius: 50%;\n",
              "      cursor: pointer;\n",
              "      display: none;\n",
              "      fill: #1967D2;\n",
              "      height: 32px;\n",
              "      padding: 0 0 0 0;\n",
              "      width: 32px;\n",
              "    }\n",
              "\n",
              "    .colab-df-convert:hover {\n",
              "      background-color: #E2EBFA;\n",
              "      box-shadow: 0px 1px 2px rgba(60, 64, 67, 0.3), 0px 1px 3px 1px rgba(60, 64, 67, 0.15);\n",
              "      fill: #174EA6;\n",
              "    }\n",
              "\n",
              "    .colab-df-buttons div {\n",
              "      margin-bottom: 4px;\n",
              "    }\n",
              "\n",
              "    [theme=dark] .colab-df-convert {\n",
              "      background-color: #3B4455;\n",
              "      fill: #D2E3FC;\n",
              "    }\n",
              "\n",
              "    [theme=dark] .colab-df-convert:hover {\n",
              "      background-color: #434B5C;\n",
              "      box-shadow: 0px 1px 3px 1px rgba(0, 0, 0, 0.15);\n",
              "      filter: drop-shadow(0px 1px 2px rgba(0, 0, 0, 0.3));\n",
              "      fill: #FFFFFF;\n",
              "    }\n",
              "  </style>\n",
              "\n",
              "    <script>\n",
              "      const buttonEl =\n",
              "        document.querySelector('#df-7cb37be4-80f3-413a-a8c4-bf9a545d4713 button.colab-df-convert');\n",
              "      buttonEl.style.display =\n",
              "        google.colab.kernel.accessAllowed ? 'block' : 'none';\n",
              "\n",
              "      async function convertToInteractive(key) {\n",
              "        const element = document.querySelector('#df-7cb37be4-80f3-413a-a8c4-bf9a545d4713');\n",
              "        const dataTable =\n",
              "          await google.colab.kernel.invokeFunction('convertToInteractive',\n",
              "                                                    [key], {});\n",
              "        if (!dataTable) return;\n",
              "\n",
              "        const docLinkHtml = 'Like what you see? Visit the ' +\n",
              "          '<a target=\"_blank\" href=https://colab.research.google.com/notebooks/data_table.ipynb>data table notebook</a>'\n",
              "          + ' to learn more about interactive tables.';\n",
              "        element.innerHTML = '';\n",
              "        dataTable['output_type'] = 'display_data';\n",
              "        await google.colab.output.renderOutput(dataTable, element);\n",
              "        const docLink = document.createElement('div');\n",
              "        docLink.innerHTML = docLinkHtml;\n",
              "        element.appendChild(docLink);\n",
              "      }\n",
              "    </script>\n",
              "  </div>\n",
              "\n",
              "\n",
              "    <div id=\"df-f5c337bd-a521-40eb-a58f-30bd7e0dfb69\">\n",
              "      <button class=\"colab-df-quickchart\" onclick=\"quickchart('df-f5c337bd-a521-40eb-a58f-30bd7e0dfb69')\"\n",
              "                title=\"Suggest charts\"\n",
              "                style=\"display:none;\">\n",
              "\n",
              "<svg xmlns=\"http://www.w3.org/2000/svg\" height=\"24px\"viewBox=\"0 0 24 24\"\n",
              "     width=\"24px\">\n",
              "    <g>\n",
              "        <path d=\"M19 3H5c-1.1 0-2 .9-2 2v14c0 1.1.9 2 2 2h14c1.1 0 2-.9 2-2V5c0-1.1-.9-2-2-2zM9 17H7v-7h2v7zm4 0h-2V7h2v10zm4 0h-2v-4h2v4z\"/>\n",
              "    </g>\n",
              "</svg>\n",
              "      </button>\n",
              "\n",
              "<style>\n",
              "  .colab-df-quickchart {\n",
              "      --bg-color: #E8F0FE;\n",
              "      --fill-color: #1967D2;\n",
              "      --hover-bg-color: #E2EBFA;\n",
              "      --hover-fill-color: #174EA6;\n",
              "      --disabled-fill-color: #AAA;\n",
              "      --disabled-bg-color: #DDD;\n",
              "  }\n",
              "\n",
              "  [theme=dark] .colab-df-quickchart {\n",
              "      --bg-color: #3B4455;\n",
              "      --fill-color: #D2E3FC;\n",
              "      --hover-bg-color: #434B5C;\n",
              "      --hover-fill-color: #FFFFFF;\n",
              "      --disabled-bg-color: #3B4455;\n",
              "      --disabled-fill-color: #666;\n",
              "  }\n",
              "\n",
              "  .colab-df-quickchart {\n",
              "    background-color: var(--bg-color);\n",
              "    border: none;\n",
              "    border-radius: 50%;\n",
              "    cursor: pointer;\n",
              "    display: none;\n",
              "    fill: var(--fill-color);\n",
              "    height: 32px;\n",
              "    padding: 0;\n",
              "    width: 32px;\n",
              "  }\n",
              "\n",
              "  .colab-df-quickchart:hover {\n",
              "    background-color: var(--hover-bg-color);\n",
              "    box-shadow: 0 1px 2px rgba(60, 64, 67, 0.3), 0 1px 3px 1px rgba(60, 64, 67, 0.15);\n",
              "    fill: var(--button-hover-fill-color);\n",
              "  }\n",
              "\n",
              "  .colab-df-quickchart-complete:disabled,\n",
              "  .colab-df-quickchart-complete:disabled:hover {\n",
              "    background-color: var(--disabled-bg-color);\n",
              "    fill: var(--disabled-fill-color);\n",
              "    box-shadow: none;\n",
              "  }\n",
              "\n",
              "  .colab-df-spinner {\n",
              "    border: 2px solid var(--fill-color);\n",
              "    border-color: transparent;\n",
              "    border-bottom-color: var(--fill-color);\n",
              "    animation:\n",
              "      spin 1s steps(1) infinite;\n",
              "  }\n",
              "\n",
              "  @keyframes spin {\n",
              "    0% {\n",
              "      border-color: transparent;\n",
              "      border-bottom-color: var(--fill-color);\n",
              "      border-left-color: var(--fill-color);\n",
              "    }\n",
              "    20% {\n",
              "      border-color: transparent;\n",
              "      border-left-color: var(--fill-color);\n",
              "      border-top-color: var(--fill-color);\n",
              "    }\n",
              "    30% {\n",
              "      border-color: transparent;\n",
              "      border-left-color: var(--fill-color);\n",
              "      border-top-color: var(--fill-color);\n",
              "      border-right-color: var(--fill-color);\n",
              "    }\n",
              "    40% {\n",
              "      border-color: transparent;\n",
              "      border-right-color: var(--fill-color);\n",
              "      border-top-color: var(--fill-color);\n",
              "    }\n",
              "    60% {\n",
              "      border-color: transparent;\n",
              "      border-right-color: var(--fill-color);\n",
              "    }\n",
              "    80% {\n",
              "      border-color: transparent;\n",
              "      border-right-color: var(--fill-color);\n",
              "      border-bottom-color: var(--fill-color);\n",
              "    }\n",
              "    90% {\n",
              "      border-color: transparent;\n",
              "      border-bottom-color: var(--fill-color);\n",
              "    }\n",
              "  }\n",
              "</style>\n",
              "\n",
              "      <script>\n",
              "        async function quickchart(key) {\n",
              "          const quickchartButtonEl =\n",
              "            document.querySelector('#' + key + ' button');\n",
              "          quickchartButtonEl.disabled = true;  // To prevent multiple clicks.\n",
              "          quickchartButtonEl.classList.add('colab-df-spinner');\n",
              "          try {\n",
              "            const charts = await google.colab.kernel.invokeFunction(\n",
              "                'suggestCharts', [key], {});\n",
              "          } catch (error) {\n",
              "            console.error('Error during call to suggestCharts:', error);\n",
              "          }\n",
              "          quickchartButtonEl.classList.remove('colab-df-spinner');\n",
              "          quickchartButtonEl.classList.add('colab-df-quickchart-complete');\n",
              "        }\n",
              "        (() => {\n",
              "          let quickchartButtonEl =\n",
              "            document.querySelector('#df-f5c337bd-a521-40eb-a58f-30bd7e0dfb69 button');\n",
              "          quickchartButtonEl.style.display =\n",
              "            google.colab.kernel.accessAllowed ? 'block' : 'none';\n",
              "        })();\n",
              "      </script>\n",
              "    </div>\n",
              "\n",
              "    </div>\n",
              "  </div>\n"
            ],
            "application/vnd.google.colaboratory.intrinsic+json": {
              "type": "dataframe",
              "repr_error": "0"
            }
          },
          "metadata": {},
          "execution_count": 7
        }
      ],
      "source": [
        "import os\n",
        "if not os.path.exists('ML'):\n",
        "    !git clone https://github.com/DmitriyKolesnikM/ML.git\n",
        "\n",
        "!pip install -q pandas numpy scikit-learn matplotlib seaborn\n",
        "\n",
        "import numpy as np\n"
      ]
    },
    {
      "cell_type": "markdown",
      "id": "6ff3559d-5f3e-4540-9a31-bfb9f42a23da",
      "metadata": {
        "id": "6ff3559d-5f3e-4540-9a31-bfb9f42a23da"
      },
      "source": [
        "1. Найти индексы не нулевых элементов массива [1,2,0,0,4,0]"
      ]
    },
    {
      "cell_type": "code",
      "execution_count": 45,
      "id": "752bc586-1e3f-4085-85c3-4068b781314f",
      "metadata": {
        "colab": {
          "base_uri": "https://localhost:8080/"
        },
        "id": "752bc586-1e3f-4085-85c3-4068b781314f",
        "outputId": "e28715db-be94-4a49-dc97-2cdaa7f8df13"
      },
      "outputs": [
        {
          "output_type": "stream",
          "name": "stdout",
          "text": [
            "(array([0, 1, 4]),)\n"
          ]
        }
      ],
      "source": [
        "arr = [1, 2, 0, 0, 4, 0]\n",
        "non_zero_indices = np.nonzero(arr)\n",
        "print(non_zero_indices)"
      ]
    },
    {
      "cell_type": "markdown",
      "id": "0243a0f6-1905-4e2d-9572-9ba49dc003a8",
      "metadata": {
        "id": "0243a0f6-1905-4e2d-9572-9ba49dc003a8"
      },
      "source": [
        "2. Создайте единичную матрицу размером 3х3"
      ]
    },
    {
      "cell_type": "code",
      "execution_count": 8,
      "id": "ec6ae581-5adf-459c-bdc7-8b015d9529f6",
      "metadata": {
        "colab": {
          "base_uri": "https://localhost:8080/"
        },
        "id": "ec6ae581-5adf-459c-bdc7-8b015d9529f6",
        "outputId": "cad48edf-3897-4a4f-8502-c0425c5b7a08"
      },
      "outputs": [
        {
          "output_type": "execute_result",
          "data": {
            "text/plain": [
              "array([[1., 0., 0.],\n",
              "       [0., 1., 0.],\n",
              "       [0., 0., 1.]])"
            ]
          },
          "metadata": {},
          "execution_count": 8
        }
      ],
      "source": [
        "np.identity(3)"
      ]
    },
    {
      "cell_type": "markdown",
      "id": "8c7d3811-a555-4c02-ada8-e4a70b9dee46",
      "metadata": {
        "id": "8c7d3811-a555-4c02-ada8-e4a70b9dee46"
      },
      "source": [
        "3. Создайте матрицу-шахматную доску 8х8 используя функцию `tile`"
      ]
    },
    {
      "cell_type": "code",
      "execution_count": 9,
      "id": "12d0ed34-908c-4840-8b81-457e64dd7b0b",
      "metadata": {
        "colab": {
          "base_uri": "https://localhost:8080/"
        },
        "id": "12d0ed34-908c-4840-8b81-457e64dd7b0b",
        "outputId": "60265f8e-9ae1-4c7b-ecbf-4281323b5958"
      },
      "outputs": [
        {
          "output_type": "stream",
          "name": "stdout",
          "text": [
            "[[1 0 1 0 1 0 1 0]\n",
            " [0 1 0 1 0 1 0 1]\n",
            " [1 0 1 0 1 0 1 0]\n",
            " [0 1 0 1 0 1 0 1]\n",
            " [1 0 1 0 1 0 1 0]\n",
            " [0 1 0 1 0 1 0 1]\n",
            " [1 0 1 0 1 0 1 0]\n",
            " [0 1 0 1 0 1 0 1]]\n"
          ]
        }
      ],
      "source": [
        "minimal_square = [[1, 0], [0, 1]]\n",
        "chess_matrix = np.tile(minimal_square, (4, 4))\n",
        "print(chess_matrix)"
      ]
    },
    {
      "cell_type": "markdown",
      "id": "b7ca56e6-a194-4c42-b8a2-307fcf40f648",
      "metadata": {
        "id": "b7ca56e6-a194-4c42-b8a2-307fcf40f648"
      },
      "source": [
        "4. Дан 1D массив, удалите все элементы которые входят в диапазон `[3, 8]` inplace"
      ]
    },
    {
      "cell_type": "code",
      "execution_count": 14,
      "id": "1b1d64cd-0e28-400f-8d49-a1274947e150",
      "metadata": {
        "colab": {
          "base_uri": "https://localhost:8080/"
        },
        "id": "1b1d64cd-0e28-400f-8d49-a1274947e150",
        "outputId": "3071c6db-9581-4caa-af89-054c47cfc648"
      },
      "outputs": [
        {
          "output_type": "stream",
          "name": "stdout",
          "text": [
            "[0, 2, 1, 10, 15]\n"
          ]
        }
      ],
      "source": [
        "arr = [0, 4, 4, 2, 1, 4, 8, 7, 10, 15]\n",
        "arr[:] = [x for x in arr if not (3 <= x <= 8)]\n",
        "print(arr)"
      ]
    },
    {
      "cell_type": "markdown",
      "id": "b3b2cd1e-e996-45e0-b9ed-e12ce653a9c3",
      "metadata": {
        "id": "b3b2cd1e-e996-45e0-b9ed-e12ce653a9c3"
      },
      "source": [
        "5. Создайте случайный вектор размером 10 элементов и замените максимальный элемент на 0"
      ]
    },
    {
      "cell_type": "code",
      "execution_count": 15,
      "id": "c40ef785-d750-42ba-ac6e-b777866202a6",
      "metadata": {
        "colab": {
          "base_uri": "https://localhost:8080/"
        },
        "id": "c40ef785-d750-42ba-ac6e-b777866202a6",
        "outputId": "f06664ee-94c7-4ea6-ec52-6767612d7223"
      },
      "outputs": [
        {
          "output_type": "stream",
          "name": "stdout",
          "text": [
            "[0.96372444 0.44944212 0.48594394 0.078116   0.53294444 0.72706945\n",
            " 0.19299839 0.15886437 0.29333858 0.37845182]\n",
            "[0.         0.44944212 0.48594394 0.078116   0.53294444 0.72706945\n",
            " 0.19299839 0.15886437 0.29333858 0.37845182]\n"
          ]
        }
      ],
      "source": [
        "random_vec = np.random.rand(10)\n",
        "print(random_vec)\n",
        "random_vec[np.argmax(random_vec)] = 0\n",
        "print(random_vec)"
      ]
    },
    {
      "cell_type": "markdown",
      "id": "8108b3a8-5ba8-472d-ad6b-095ade8678ef",
      "metadata": {
        "id": "8108b3a8-5ba8-472d-ad6b-095ade8678ef"
      },
      "source": [
        "6. Как распечатать все значения в массиве?"
      ]
    },
    {
      "cell_type": "code",
      "execution_count": 16,
      "id": "89b58c0a-bd5d-435a-be45-719fdfce662a",
      "metadata": {
        "colab": {
          "base_uri": "https://localhost:8080/"
        },
        "id": "89b58c0a-bd5d-435a-be45-719fdfce662a",
        "outputId": "53fa36d8-c661-423d-c257-dc0a4a159fbf"
      },
      "outputs": [
        {
          "output_type": "stream",
          "name": "stdout",
          "text": [
            "[np.int64(0), np.int64(1), np.int64(2), np.int64(3), np.int64(4), np.int64(5), np.int64(6), np.int64(7), np.int64(8), np.int64(9), np.int64(10), np.int64(11), np.int64(12), np.int64(13), np.int64(14), np.int64(15), np.int64(16), np.int64(17), np.int64(18), np.int64(19), np.int64(20), np.int64(21), np.int64(22), np.int64(23), np.int64(24), np.int64(25), np.int64(26), np.int64(27), np.int64(28), np.int64(29), np.int64(30), np.int64(31), np.int64(32), np.int64(33), np.int64(34), np.int64(35), np.int64(36), np.int64(37), np.int64(38), np.int64(39), np.int64(40), np.int64(41), np.int64(42), np.int64(43), np.int64(44), np.int64(45), np.int64(46), np.int64(47), np.int64(48), np.int64(49), np.int64(50), np.int64(51), np.int64(52), np.int64(53), np.int64(54), np.int64(55), np.int64(56), np.int64(57), np.int64(58), np.int64(59), np.int64(60), np.int64(61), np.int64(62), np.int64(63), np.int64(64), np.int64(65), np.int64(66), np.int64(67), np.int64(68), np.int64(69), np.int64(70), np.int64(71), np.int64(72), np.int64(73), np.int64(74), np.int64(75), np.int64(76), np.int64(77), np.int64(78), np.int64(79), np.int64(80), np.int64(81), np.int64(82), np.int64(83), np.int64(84), np.int64(85), np.int64(86), np.int64(87), np.int64(88), np.int64(89), np.int64(90), np.int64(91), np.int64(92), np.int64(93), np.int64(94), np.int64(95), np.int64(96), np.int64(97), np.int64(98), np.int64(99), np.int64(100), np.int64(101), np.int64(102), np.int64(103), np.int64(104), np.int64(105), np.int64(106), np.int64(107), np.int64(108), np.int64(109), np.int64(110), np.int64(111), np.int64(112), np.int64(113), np.int64(114), np.int64(115), np.int64(116), np.int64(117), np.int64(118), np.int64(119), np.int64(120), np.int64(121), np.int64(122), np.int64(123), np.int64(124), np.int64(125), np.int64(126), np.int64(127), np.int64(128), np.int64(129), np.int64(130), np.int64(131), np.int64(132), np.int64(133), np.int64(134), np.int64(135), np.int64(136), np.int64(137), np.int64(138), np.int64(139), np.int64(140), np.int64(141), np.int64(142), np.int64(143), np.int64(144), np.int64(145), np.int64(146), np.int64(147), np.int64(148), np.int64(149)]\n"
          ]
        }
      ],
      "source": [
        "arr = np.arange(150)\n",
        "# Можно обернуть в лист(list(arr))\n",
        "# Можно в цикле пройтись просто (for element in arr: print(element))\n",
        "# Можно настройки numpy изменить: np.set_printoptions(threshold=sys.maxsize)"
      ]
    },
    {
      "cell_type": "markdown",
      "id": "98511652-db85-4506-a5b8-f94b05d35ce9",
      "metadata": {
        "id": "98511652-db85-4506-a5b8-f94b05d35ce9"
      },
      "source": [
        "7. Рассмотрим случайный вектор с формой 100х2, представляющей координаты, и найдем расстояния от точки к точке"
      ]
    },
    {
      "cell_type": "code",
      "execution_count": 28,
      "id": "ca72cdb0-ed24-460d-81a9-220b850d62c3",
      "metadata": {
        "colab": {
          "base_uri": "https://localhost:8080/"
        },
        "id": "ca72cdb0-ed24-460d-81a9-220b850d62c3",
        "outputId": "dd46e0c5-0115-482f-a040-14eac5174e7a"
      },
      "outputs": [
        {
          "output_type": "stream",
          "name": "stdout",
          "text": [
            "[[   0.          657.46863043   72.11102551  303.59512513  461.9134118\n",
            "   893.12261196  123.30855607  186.0376306   386.81907916  896.57124647]\n",
            " [ 657.46863043    0.          728.70913264  388.63479     282.79497874\n",
            "   631.46575521  766.32238647  489.00408996  658.76399416  252.23996511]\n",
            " [  72.11102551  728.70913264    0.          367.76351097  532.66499791\n",
            "   952.70772013   82.15229759  250.71497761  423.72278674  966.28774182]\n",
            " [ 303.59512513  388.63479     367.76351097    0.          312.02884482\n",
            "   816.30999014  425.63951884  117.59251677  507.34702128  607.85031052]\n",
            " [ 461.9134118   282.79497874  532.66499791  312.02884482    0.\n",
            "   504.84056889  546.80618138  349.01289374  376.37879855  530.64865966]\n",
            " [ 893.12261196  631.46575521  952.70772013  816.30999014  504.84056889\n",
            "     0.          931.88250332  836.06339473  581.41637404  769.72982273]\n",
            " [ 123.30855607  766.32238647   82.15229759  425.63951884  546.80618138\n",
            "   931.88250332    0.          308.42341027  377.4864236  1010.11138   ]\n",
            " [ 186.0376306   489.00408996  250.71497761  117.59251677  349.01289374\n",
            "   836.06339473  308.42341027    0.          442.19113514  718.92280531]\n",
            " [ 386.81907916  658.76399416  423.72278674  507.34702128  376.37879855\n",
            "   581.41637404  377.4864236   442.19113514    0.          906.75520401]\n",
            " [ 896.57124647  252.23996511  966.28774182  607.85031052  530.64865966\n",
            "   769.72982273 1010.11138     718.92280531  906.75520401    0.        ]]\n"
          ]
        }
      ],
      "source": [
        "coords = np.random.randint(0, 1000, size=(100, 2))\n",
        "differences = coords[:, np.newaxis, :] - coords[np.newaxis, :, :]\n",
        "squared_diffs = differences**2\n",
        "sum_of_squares = squared_diffs.sum(axis=-1)\n",
        "distance_matrix_numpy = np.sqrt(sum_of_squares)\n",
        "print(distance_matrix_numpy[:10, :10])"
      ]
    },
    {
      "cell_type": "markdown",
      "id": "1412a70a-2a1e-406e-a227-afc9a47ed659",
      "metadata": {
        "id": "1412a70a-2a1e-406e-a227-afc9a47ed659"
      },
      "source": [
        "8. Как конвертировать массив float(32 bit) к массиву целых чисел (integer 32 bit) in place?"
      ]
    },
    {
      "cell_type": "code",
      "execution_count": 41,
      "id": "22bb8bbf-52dd-4d3c-86c0-c4e9637b909b",
      "metadata": {
        "colab": {
          "base_uri": "https://localhost:8080/"
        },
        "id": "22bb8bbf-52dd-4d3c-86c0-c4e9637b909b",
        "outputId": "0cd9d30c-0091-45c4-ea45-870f29132b27"
      },
      "outputs": [
        {
          "output_type": "stream",
          "name": "stdout",
          "text": [
            "Исходный массив: [ 1.2  2.8  5.  -3.7  9.9]\n",
            "ДО: 134039012310080\n",
            "\n",
            "Результат (просмотренный как int32): [ 1  2  5 -3  9]\n",
            "ID ПОСЛЕ:   134039012310080\n"
          ]
        }
      ],
      "source": [
        "float_arr = np.array([1.2, 2.8, 5.0, -3.7, 9.9], dtype=np.float32)\n",
        "print(f\"Исходный массив: {float_arr}\")\n",
        "print(f\"ДО: {id(float_arr.data)}\")\n",
        "float_arr.view(np.int32)[:] = float_arr\n",
        "print(f\"\\nРезультат (просмотренный как int32): {float_arr.view(np.int32)}\")\n",
        "print(f\"ID ПОСЛЕ:   {id(float_arr.view(np.int32).data)}\")\n"
      ]
    },
    {
      "cell_type": "markdown",
      "id": "f7dc66bf-f7c8-4d78-834b-451651f6839a",
      "metadata": {
        "id": "f7dc66bf-f7c8-4d78-834b-451651f6839a"
      },
      "source": [
        "9. Как прочитать заданный файл?\n",
        "```\n",
        "1, 2, 3, 4, 5\n",
        "6,  ,  , 7, 8\n",
        " ,  , 9,10,11\n",
        "```"
      ]
    },
    {
      "cell_type": "code",
      "execution_count": 44,
      "id": "0ecf5586-d30e-4256-ab93-7ff9bab0b34b",
      "metadata": {
        "colab": {
          "base_uri": "https://localhost:8080/"
        },
        "id": "0ecf5586-d30e-4256-ab93-7ff9bab0b34b",
        "outputId": "d6b970c9-0b4a-4331-8506-d05fc39c4d12"
      },
      "outputs": [
        {
          "output_type": "stream",
          "name": "stdout",
          "text": [
            "[[ 1.  2.  3.  4.  5.]\n",
            " [ 6. nan nan  7.  8.]\n",
            " [nan nan  9. 10. 11.]]\n"
          ]
        }
      ],
      "source": [
        "import io\n",
        "\n",
        "file = \"\"\"1, 2, 3, 4, 5\n",
        "6, , , 7, 8\n",
        ", , 9,10,11\n",
        "\"\"\"\n",
        "\n",
        "data = np.genfromtxt(io.StringIO(file), delimiter=',')\n",
        "print(data)"
      ]
    },
    {
      "cell_type": "markdown",
      "id": "a66194f1-0099-4808-8ebf-5cf10eee5071",
      "metadata": {
        "id": "a66194f1-0099-4808-8ebf-5cf10eee5071"
      },
      "source": [
        "10. Какой эквивалент enumerate для numpy массивов?"
      ]
    },
    {
      "cell_type": "code",
      "execution_count": null,
      "id": "07ed452c-3f7c-40a7-a5b5-716602a5eed9",
      "metadata": {
        "id": "07ed452c-3f7c-40a7-a5b5-716602a5eed9"
      },
      "outputs": [],
      "source": [
        "# numpy.ndenumerate"
      ]
    },
    {
      "cell_type": "markdown",
      "id": "5bd0f757-bb01-4afb-b4f0-6821b5c5b2b7",
      "metadata": {
        "id": "5bd0f757-bb01-4afb-b4f0-6821b5c5b2b7"
      },
      "source": [
        "### 2. Pandas"
      ]
    },
    {
      "cell_type": "markdown",
      "id": "bdffd013-e573-4318-8062-65ae1c5e07e8",
      "metadata": {
        "id": "bdffd013-e573-4318-8062-65ae1c5e07e8"
      },
      "source": [
        "Найдите ответы на вопросы или выполните действия с предложенным датасетом\n",
        "\n",
        "Файл: `russian-housing-market.csv`\n",
        "\n",
        "```\n",
        "price_doc - Цена продажи\n",
        "id - Id транзакции\n",
        "timestamp - Дата транзакции\n",
        "full_sq - суммарная площадь в квадратных метрах, включая лоджию, валконы и отдельные нежилые помещения\n",
        "life_sq - жилая площаль в квадратных метрах, исключая лоджии, балконы и прочие нежилые помещения\n",
        "floor - для апартаментов, этаж помещения\n",
        "max_floor - количество этажей в здании\n",
        "material - материал стен\n",
        "build_year - год постройки\n",
        "num_room - количество жилых комнат\n",
        "kitch_sq - площадь кухни\n",
        "state - состояние апартаментов\n",
        "product_type - покупка или инвестиция собственника-арендатора\n",
        "sub_area - название района\n",
        "```"
      ]
    },
    {
      "cell_type": "code",
      "execution_count": null,
      "id": "0778ec2b-a7b2-4738-b771-bb1781986f62",
      "metadata": {
        "id": "0778ec2b-a7b2-4738-b771-bb1781986f62"
      },
      "outputs": [],
      "source": [
        "import pandas as pd"
      ]
    },
    {
      "cell_type": "code",
      "execution_count": null,
      "id": "bfc45614-d44b-49bd-a55c-c410a95a808f",
      "metadata": {
        "id": "bfc45614-d44b-49bd-a55c-c410a95a808f"
      },
      "outputs": [],
      "source": [
        "# Load dataset here"
      ]
    },
    {
      "cell_type": "markdown",
      "id": "1026e8c6-513a-41e3-b2f4-68aae18b8435",
      "metadata": {
        "id": "1026e8c6-513a-41e3-b2f4-68aae18b8435"
      },
      "source": [
        "1. Посчитайте количество записей в датасете с отсутствующей информацией о жилой площади жилого помещения"
      ]
    },
    {
      "cell_type": "code",
      "execution_count": null,
      "id": "e74655aa-b97c-42e5-b972-e0753ddc2331",
      "metadata": {
        "id": "e74655aa-b97c-42e5-b972-e0753ddc2331"
      },
      "outputs": [],
      "source": []
    },
    {
      "cell_type": "markdown",
      "id": "eee028a5-9311-4a4f-b4ac-1fb75acfb4b3",
      "metadata": {
        "id": "eee028a5-9311-4a4f-b4ac-1fb75acfb4b3"
      },
      "source": [
        "2. Предложите способ заменить отсутствующие значения из пункта 1 и реализуйте его. Способ нужно аргументировать(сказать почему это достаточно хорошее приближение)"
      ]
    },
    {
      "cell_type": "code",
      "execution_count": null,
      "id": "ac0fb641-96d2-4e7c-88d5-636ce3b699d2",
      "metadata": {
        "id": "ac0fb641-96d2-4e7c-88d5-636ce3b699d2"
      },
      "outputs": [],
      "source": []
    },
    {
      "cell_type": "markdown",
      "id": "cd7979ba-2fa8-4fd3-986d-26cee122da1f",
      "metadata": {
        "id": "cd7979ba-2fa8-4fd3-986d-26cee122da1f"
      },
      "source": [
        "3. Какие значения имеет 25, 50 и 75 перцентили полной площади помещения"
      ]
    },
    {
      "cell_type": "code",
      "execution_count": null,
      "id": "3915f77b-116c-482b-8644-2f5f11931af9",
      "metadata": {
        "id": "3915f77b-116c-482b-8644-2f5f11931af9"
      },
      "outputs": [],
      "source": []
    },
    {
      "cell_type": "markdown",
      "id": "1b69ba67-61a8-4765-9795-cfab1a09e929",
      "metadata": {
        "id": "1b69ba67-61a8-4765-9795-cfab1a09e929"
      },
      "source": [
        "4. Посчитайте среднюю стоимость продажи помещений с общей площадью от 50 до 70 квадратных метров"
      ]
    },
    {
      "cell_type": "code",
      "execution_count": null,
      "id": "1228d2e9-fc56-4240-95c6-c98a8b84c016",
      "metadata": {
        "id": "1228d2e9-fc56-4240-95c6-c98a8b84c016"
      },
      "outputs": [],
      "source": []
    },
    {
      "cell_type": "markdown",
      "id": "5acec4fd-f740-49a8-a5d8-562d358239c9",
      "metadata": {
        "id": "5acec4fd-f740-49a8-a5d8-562d358239c9"
      },
      "source": [
        "5. Какая максимальная этажность здания представлена в датасете"
      ]
    },
    {
      "cell_type": "code",
      "execution_count": null,
      "id": "cac8daef-f4e8-4c8b-b7f4-d41a6adf35ed",
      "metadata": {
        "id": "cac8daef-f4e8-4c8b-b7f4-d41a6adf35ed"
      },
      "outputs": [],
      "source": []
    },
    {
      "cell_type": "markdown",
      "id": "8d6171a9-0f75-4f3e-ac54-95d03d1f70b6",
      "metadata": {
        "id": "8d6171a9-0f75-4f3e-ac54-95d03d1f70b6"
      },
      "source": [
        "6. Выявите район с самым дорогим жильем"
      ]
    },
    {
      "cell_type": "code",
      "execution_count": null,
      "id": "c64d0892-2fb8-4304-966c-5cbb32b03c0a",
      "metadata": {
        "id": "c64d0892-2fb8-4304-966c-5cbb32b03c0a"
      },
      "outputs": [],
      "source": []
    },
    {
      "cell_type": "markdown",
      "id": "d29320f9-aef8-452c-9d61-0afa72dd93b6",
      "metadata": {
        "id": "d29320f9-aef8-452c-9d61-0afa72dd93b6"
      },
      "source": [
        "7. Посчитайте среднюю стоимость за квадратный метр жилья в Митино(Mitino)"
      ]
    },
    {
      "cell_type": "code",
      "execution_count": null,
      "id": "d04e1904-f9f3-40bd-abbd-4d53ee9f7bd2",
      "metadata": {
        "id": "d04e1904-f9f3-40bd-abbd-4d53ee9f7bd2"
      },
      "outputs": [],
      "source": []
    },
    {
      "cell_type": "markdown",
      "id": "1d447d6e-cfde-411c-9078-cd8f41f02d8b",
      "metadata": {
        "id": "1d447d6e-cfde-411c-9078-cd8f41f02d8b"
      },
      "source": [
        "8. Посчитайте среднюю площадь комнаты в Бибирево"
      ]
    },
    {
      "cell_type": "code",
      "execution_count": null,
      "id": "b30df6b1-5eca-43da-a115-1c1a3cbfd899",
      "metadata": {
        "id": "b30df6b1-5eca-43da-a115-1c1a3cbfd899"
      },
      "outputs": [],
      "source": []
    },
    {
      "cell_type": "markdown",
      "id": "c41d5d99-65f7-4d17-82ae-971ec959f327",
      "metadata": {
        "id": "c41d5d99-65f7-4d17-82ae-971ec959f327"
      },
      "source": [
        "9. Проанализируйте есть ли разница в цене между квартирами на 1 и 9 этажах"
      ]
    },
    {
      "cell_type": "code",
      "execution_count": null,
      "id": "275bcc04-659b-4521-a9e5-200a5f4ef674",
      "metadata": {
        "id": "275bcc04-659b-4521-a9e5-200a5f4ef674"
      },
      "outputs": [],
      "source": []
    },
    {
      "cell_type": "markdown",
      "id": "a1f7a5c0-259c-4837-a5d1-2dfc05e7c13e",
      "metadata": {
        "id": "a1f7a5c0-259c-4837-a5d1-2dfc05e7c13e"
      },
      "source": [
        "10. Найдите минимальную стоимость квартиры с жилой площадью не менее 60 квадратных метров, не менее чем 3мя комнатами и не ниже чем на 5 этаже"
      ]
    },
    {
      "cell_type": "code",
      "execution_count": null,
      "id": "a2da4d57-edb4-4179-8bee-3deda6cd00e6",
      "metadata": {
        "id": "a2da4d57-edb4-4179-8bee-3deda6cd00e6"
      },
      "outputs": [],
      "source": []
    },
    {
      "cell_type": "markdown",
      "id": "deb4ca3a-3d8a-4205-bee9-d26fd28638b2",
      "metadata": {
        "id": "deb4ca3a-3d8a-4205-bee9-d26fd28638b2"
      },
      "source": [
        "### 3. Визуализация"
      ]
    },
    {
      "cell_type": "markdown",
      "id": "f8941ce1-cbf2-465a-b013-1b84aeb999ef",
      "metadata": {
        "id": "f8941ce1-cbf2-465a-b013-1b84aeb999ef"
      },
      "source": [
        "Используя библиотеки matplotlib/sns/plotly/pandas и набор данных представленный ранее визуализируйте"
      ]
    },
    {
      "cell_type": "markdown",
      "id": "5e98ce6f-8d02-4120-ad85-241494c038d6",
      "metadata": {
        "id": "5e98ce6f-8d02-4120-ad85-241494c038d6"
      },
      "source": [
        "1. Как менялась средняя цена квартиры в Нагатинском Затоне(Nagatinski Zaton) с течением времени"
      ]
    },
    {
      "cell_type": "code",
      "execution_count": null,
      "id": "664666b2-17b7-49dd-a3bd-c4be9361755d",
      "metadata": {
        "id": "664666b2-17b7-49dd-a3bd-c4be9361755d"
      },
      "outputs": [],
      "source": []
    },
    {
      "cell_type": "markdown",
      "id": "4c7500bb-36ca-4ea7-bc3c-4f15afbd4c41",
      "metadata": {
        "id": "4c7500bb-36ca-4ea7-bc3c-4f15afbd4c41"
      },
      "source": [
        "2. Постройте гистограмму распределения цен на квартиры с общей площадью более 50 кв.метров"
      ]
    },
    {
      "cell_type": "code",
      "execution_count": null,
      "id": "7325e7f8-5f00-4a82-8184-7064505f7ccd",
      "metadata": {
        "id": "7325e7f8-5f00-4a82-8184-7064505f7ccd"
      },
      "outputs": [],
      "source": []
    },
    {
      "cell_type": "markdown",
      "id": "efdd0669-36e0-4708-ac6b-ad0d92881113",
      "metadata": {
        "id": "efdd0669-36e0-4708-ac6b-ad0d92881113"
      },
      "source": [
        "3. Визуализируйте количество проданных квартир в разных районах"
      ]
    },
    {
      "cell_type": "code",
      "execution_count": null,
      "id": "7504a170-04a1-4b86-924d-8d46be16fd3c",
      "metadata": {
        "id": "7504a170-04a1-4b86-924d-8d46be16fd3c"
      },
      "outputs": [],
      "source": []
    },
    {
      "cell_type": "markdown",
      "id": "b5839a48-e992-45fc-81ee-59cb5aa79dda",
      "metadata": {
        "id": "b5839a48-e992-45fc-81ee-59cb5aa79dda"
      },
      "source": [
        "4. Постройте box plot отображающий распределение полных площадей квартир в Басманном районе"
      ]
    },
    {
      "cell_type": "code",
      "execution_count": null,
      "id": "1a942378-45ea-47a0-bac9-488960491613",
      "metadata": {
        "id": "1a942378-45ea-47a0-bac9-488960491613"
      },
      "outputs": [],
      "source": []
    },
    {
      "cell_type": "markdown",
      "id": "d4c97bef-bb64-43cc-a89f-7510174492ec",
      "metadata": {
        "id": "d4c97bef-bb64-43cc-a89f-7510174492ec"
      },
      "source": [
        "5. Визуализируйте зависимость средней стоимости квартир в зависимости от этажа"
      ]
    },
    {
      "cell_type": "code",
      "execution_count": null,
      "id": "a1f444af-3544-432c-8dc6-bb74d4cff272",
      "metadata": {
        "id": "a1f444af-3544-432c-8dc6-bb74d4cff272"
      },
      "outputs": [],
      "source": []
    },
    {
      "cell_type": "markdown",
      "id": "a2ab764c-8ac1-4c5a-93ad-8168b0eb4934",
      "metadata": {
        "id": "a2ab764c-8ac1-4c5a-93ad-8168b0eb4934"
      },
      "source": [
        "6. Покажите как меняется средняя площадь квартир в зависимости от района"
      ]
    },
    {
      "cell_type": "code",
      "execution_count": null,
      "id": "6449e306-fb6c-46d4-bcd8-b6b76fbf69d2",
      "metadata": {
        "id": "6449e306-fb6c-46d4-bcd8-b6b76fbf69d2"
      },
      "outputs": [],
      "source": []
    },
    {
      "cell_type": "markdown",
      "id": "16afdeec-8c90-4ed1-a599-e0b1343bbf5c",
      "metadata": {
        "id": "16afdeec-8c90-4ed1-a599-e0b1343bbf5c"
      },
      "source": [
        "7. Постройте график изменения медианной цены на квартиру менее 50 кв. метров за период с 2011 до 2014 года*\n",
        "\n",
        "\\* Задание на доп. балл"
      ]
    },
    {
      "cell_type": "code",
      "execution_count": null,
      "id": "e10d0cc7-a1ca-4204-a875-b1660e44618d",
      "metadata": {
        "id": "e10d0cc7-a1ca-4204-a875-b1660e44618d"
      },
      "outputs": [],
      "source": []
    }
  ],
  "metadata": {
    "kernelspec": {
      "display_name": "Python 3 (ipykernel)",
      "language": "python",
      "name": "python3"
    },
    "language_info": {
      "codemirror_mode": {
        "name": "ipython",
        "version": 3
      },
      "file_extension": ".py",
      "mimetype": "text/x-python",
      "name": "python",
      "nbconvert_exporter": "python",
      "pygments_lexer": "ipython3",
      "version": "3.11.7"
    },
    "colab": {
      "provenance": []
    }
  },
  "nbformat": 4,
  "nbformat_minor": 5
}